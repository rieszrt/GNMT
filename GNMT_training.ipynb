{
 "cells": [
  {
   "cell_type": "markdown",
   "metadata": {
    "id": "mVIW8zdhePag"
   },
   "source": [
    "### Training the model"
   ]
  },
  {
   "cell_type": "markdown",
   "metadata": {
    "id": "1em7A6IiecHK"
   },
   "source": [
    "### data processing"
   ]
  },
  {
   "cell_type": "code",
   "execution_count": null,
   "metadata": {
    "id": "N3o_G4ytnTTY"
   },
   "outputs": [],
   "source": [
    "import tensorflow as tf\n",
    "\n",
    "import matplotlib.pyplot as plt\n",
    "import matplotlib.ticker as ticker\n",
    "\n",
    "import unicodedata\n",
    "import re\n",
    "import numpy as np\n",
    "import os\n",
    "import io\n",
    "import time"
   ]
  },
  {
   "cell_type": "code",
   "execution_count": null,
   "metadata": {
    "colab": {
     "base_uri": "https://localhost:8080/"
    },
    "id": "Jh3_cEmYoYmq",
    "outputId": "1c66f001-0cb9-4c2f-c316-aba7f4047340"
   },
   "outputs": [
    {
     "name": "stdout",
     "output_type": "stream",
     "text": [
      "Mounted at /content/drive\n"
     ]
    }
   ],
   "source": [
    "from google.colab import drive\n",
    "drive.mount('/content/drive')"
   ]
  },
  {
   "cell_type": "code",
   "execution_count": null,
   "metadata": {
    "id": "uLU24qSr2Q6Q"
   },
   "outputs": [],
   "source": [
    "# 将 unicode 文件转换为 ascii\n",
    "def unicode_to_ascii(s):\n",
    "    return ''.join(c for c in unicodedata.normalize('NFD', s)\n",
    "        if unicodedata.category(c) != 'Mn')\n",
    "\n",
    "\n",
    "def preprocess_sentence(w):\n",
    "    w = unicode_to_ascii(w.lower().strip())\n",
    "\n",
    "    w = '<start> ' + w + ' <end>'\n",
    "    return w\n",
    "\n",
    "def create_dataset(path, num_examples):\n",
    "    lines = io.open(path, encoding='UTF-8').read().strip().split('\\n')\n",
    "    \n",
    "    word_pairs = [[preprocess_sentence(w) for w in l.split('\\t')]  for l in lines[:num_examples]]\n",
    "\n",
    "    return zip(*word_pairs)"
   ]
  },
  {
   "cell_type": "code",
   "execution_count": null,
   "metadata": {
    "colab": {
     "base_uri": "https://localhost:8080/"
    },
    "id": "EliRA21pnqOF",
    "outputId": "88f7394d-290e-454b-87c7-bda17df0072f"
   },
   "outputs": [
    {
     "name": "stdout",
     "output_type": "stream",
     "text": [
      "10000\n"
     ]
    }
   ],
   "source": [
    "data_input = []\n",
    "data_target = []\n",
    "with open(\"/content/drive/MyDrive/dataset_gnmt/train_set.en\",'rt') as tr_lang, open(\"/content/drive/MyDrive/dataset_gnmt/train_set.zh\",'rt') as lab_lang:\n",
    "    for src, tgt in zip(tr_lang, lab_lang):\n",
    "      data_input.append(preprocess_sentence(src.strip()))\n",
    "      data_target.append(preprocess_sentence(tgt.strip()))\n",
    "data_target=data_target[0:10000]\n",
    "data_input=data_input[0:10000]\n",
    "print(len(data_input))"
   ]
  },
  {
   "cell_type": "code",
   "execution_count": null,
   "metadata": {
    "id": "nVsUeqap3Fto"
   },
   "outputs": [],
   "source": [
    "def max_length(tensor):\n",
    "    return max(len(t) for t in tensor)\n",
    "\n",
    "def tokenize(lang):\n",
    "  lang_tokenizer = tf.keras.preprocessing.text.Tokenizer(\n",
    "      filters='')\n",
    "  lang_tokenizer.fit_on_texts(lang)\n",
    "\n",
    "  tensor = lang_tokenizer.texts_to_sequences(lang)\n",
    "\n",
    "  tensor = tf.keras.preprocessing.sequence.pad_sequences(tensor,\n",
    "                                                         padding='post')\n",
    "\n",
    "  return tensor, lang_tokenizer\n",
    "\n",
    "def load_dataset(input_data, target_data):\n",
    "    # 创建清理过的输入输出对\n",
    "\n",
    "    input_tensor, inp_lang_tokenizer = tokenize(input_data)\n",
    "    target_tensor, targ_lang_tokenizer = tokenize(target_data)\n",
    "\n",
    "    return input_tensor, target_tensor, inp_lang_tokenizer, targ_lang_tokenizer"
   ]
  },
  {
   "cell_type": "code",
   "execution_count": null,
   "metadata": {
    "id": "ktpTo0vC3NB9"
   },
   "outputs": [],
   "source": [
    "# 尝试实验不同大小的数据集\n",
    "input_tensor, target_tensor, inp_lang, targ_lang=load_dataset(data_input,data_target)"
   ]
  },
  {
   "cell_type": "code",
   "execution_count": null,
   "metadata": {
    "id": "7zwfBaTyGUi7"
   },
   "outputs": [],
   "source": [
    "# 计算目标张量的最大长度 （max_length）\n",
    "max_length_targ, max_length_inp = max_length(target_tensor), max_length(input_tensor)"
   ]
  },
  {
   "cell_type": "markdown",
   "metadata": {
    "id": "qO0Cd92Cd_A3"
   },
   "source": [
    "## Creat the dataset"
   ]
  },
  {
   "cell_type": "code",
   "execution_count": null,
   "metadata": {
    "colab": {
     "base_uri": "https://localhost:8080/"
    },
    "id": "79TbzZFMMh2X",
    "outputId": "48aeca91-15b9-4f1c-9794-6cbff0618a97"
   },
   "outputs": [
    {
     "name": "stdout",
     "output_type": "stream",
     "text": [
      "{'<start>': 1, '<end>': 2, 'the': 3, 'to': 4, 'a': 5, 'and': 6, 'you': 7, 'of': 8, 'in': 9, '-': 10, '&quot;': 11, 'text': 12, '.': 13, 'or': 14, 'for': 15, 'slide': 16, 'page': 17, 'click': 18, 'that': 19, 'on': 20, 'from': 21, 'can': 22, 'is': 23, 'format': 24, 'data': 25, 'select': 26, 'icon': 27, 'insert': 28, 'line': 29, 'with': 30, 'chart': 31, 'then': 32, 'an': 33, 'want': 34, 'are': 35, 'as': 36, 'object': 37, 'selected': 38, 'current': 39, ',': 40, 'drag': 41, 'your': 42, 'if': 43, 'style': 44, 'one': 45, 'new': 46, 'this': 47, 'all': 48, 'styles': 49, 'sun': 50, 'microsystems,': 51, 'inc.': 52, 'enter': 53, 'point': 54, 'by': 55, 'type': 56, 'table': 57, 'converted': 58, 'formatting': 59, 'document': 60, 'dialogue': 61, 'edit': 62, 'old': 63, 'fpe': 64, 'box': 65, 'show': 66, 'glue': 67, 'where': 68, 'objects': 69, 'when': 70, 'number': 71, 'paragraph': 72, 'master': 73, 'change': 74, 'not': 75, 'options': 76, 'mw': 77, 'document.': 78, 'view': 79, 'draw': 80, 'series': 81, 'be': 82, 'use': 83, 'slides': 84, 'box.': 85, 'at': 86, 'file': 87, 'slide.': 88, 'connector': 89, 'into': 90, 'bar': 91, 'only': 92, 'add': 93, 'numbering': 94, 'animation': 95, 'next': 96, 'first': 97, 'apply': 98, '$[officename]': 99, 'list': 100, 'points': 101, 'choose': 102, 'down': 103, 'range': 104, 'properties': 105, 'lines': 106, '%productname': 107, 'name': 108, 'box,': 109, 'create': 110, 'draws': 111, 'will': 112, 'ok': 113, 'object,': 114, 'other': 115, 'set': 116, '3-d': 117, 'pages': 118, 'charts': 119, 'check': 120, 'object.': 121, 'column': 122, 'press': 123, 'arrow': 124, 'while': 125, 'list.': 126, 'inserting': 127, 'entry': 128, 'command': 129, 'open': 130, 'each': 131, 'do': 132, 'displays': 133, 'background': 134, 'tools': 135, 'automatically': 136, 'fields': 137, 'modify': 138, 'using': 139, 'move': 140, 'tables': 141, 'which': 142, 'contents': 143, 'circle': 144, 'also': 145, 'custom': 146, 'hold': 147, 'tab': 148, 'different': 149, 'cell': 150, 'shows': 151, 'another': 152, 'values': 153, 'left': 154, 'right': 155, 'drawing': 156, 'page.': 157, 'area': 158, 'shift': 159, 'value': 160, 'two': 161, 'option': 162, 'axis': 163, 'numbers': 164, 'more': 165, 'between': 166, 'snap': 167, 'effect': 168, 'display': 169, 'see': 170, 'colour': 171, 'tab.': 172, 'frame': 173, 'grid': 174, 'it': 175, 'cursor': 176, 'size': 177, 'chart.': 178, 'define': 179, 'header': 180, 'word': 181, 'position': 182, 'example,': 183, 'default': 184, 'ctrl': 185, 'after': 186, 'line.': 187, 'columns': 188, 'entries': 189, 'level': 190, 'convert': 191, 'document,': 192, 'deleted': 193, 'double-click': 194, 'any': 195, 'available': 196, 'title': 197, 'writer': 198, 'print': 199, 'layout': 200, 'footer': 201, 'html': 202, 'documents': 203, 'impress': 204, 'start': 205, 'menu': 206, 'selection': 207, 'automatic': 208, 'field': 209, 'text.': 210, 'delete': 211, 'same': 212, 'layer': 213, 'straight': 214, 'preview': 215, 'character': 216, 'cells': 217, 'horizontal': 218, 'wizard': 219, 'changed': 220, 'settings': 221, 'following:': 222, 'top': 223, 'shape': 224, 'some': 225, 'inserted': 226, 'place': 227, 'point.': 228, 'contains': 229, 'vertical': 230, 'index': 231, 'creating': 232, 'drag.': 233, 'added': 234, 'row': 235, 'changes': 236, 'direction': 237, 'area,': 238, 'outline': 239, 'paragraphs': 240, 'words': 241, 'legend': 242, 'no': 243, 'editing': 244, 'starts': 245, 'rows': 246, 'mouse': 247, 'presentation': 248, 'show.': 249, 'lists': 250, 'navigator': 251, 'opens': 252, 'inserts': 253, 'bottom': 254, 'y-axis': 255, 'end': 256, 'dimension': 257, 'so': 258, 'axes': 259, 'button': 260, 'section': 261, 'save': 262, 'transition': 263, 'have': 264, 'order': 265, '(charts)': 266, 'time': 267, 'pointer': 268, 'heading': 269, 'autocorrect': 270, 'based': 271, 'on/off': 272, 'than': 273, 'curve': 274, 'up': 275, 'x-axis': 276, 'last': 277, 'has': 278, 'specifies': 279, 'moves': 280, 'table.': 281, 'break': 282, 'style.': 283, 'source': 284, 'used': 285, 'normal': 286, 'its': 287, 'specify': 288, 'zoom': 289, 'date': 290, 'image': 291, 'release.': 292, 'following': 293, 'elements': 294, 'starting': 295, 'key': 296, 'effects': 297, 'printing': 298, 'presentations': 299, 'ellipse': 300, 'shown': 301, '(': 302, 'link': 303, 'want,': 304, 'remove': 305, 'made': 306, 'rotation': 307, 'close': 308, 'inserting;': 309, 'curved': 310, 'alt': 311, 'ends': 312, 'numbered': 313, 'chapter': 314, 'control': 315, 'bar,': 316, 'edge': 317, 'sections': 318, 'group': 319, 'templates': 320, 'icon.': 321, 'copy': 322, 'error': 323, 'design': 324, 'slides.': 325, 'before': 326, 'bar.': 327, 'hide': 328, 'trend': 329, 'curves': 330, 'objects.': 331, 'toolbar': 332, 'keys': 333, 'text;': 334, 'want.': 335, 'filled': 336, 'labels': 337, 'previous': 338, 'slide,': 339, 'notes': 340, 'changing': 341, 'completion': 342, 'paste': 343, 'series.': 344, 'file.': 345, 'adds': 346, 'need': 347, 'template': 348, 'graphics': 349, 'polygon': 350, 'rulers': 351, 'manual': 352, 'commands': 353, '2-d': 354, 'pie': 355, 'example': 356, 'positive': 357, 'type.': 358, 'sets': 359, 'titles': 360, 'front': 361, 'rounded': 362, 'corner': 363, 'variable': 364, 'individual': 365, 'shortcut': 366, 'bullets': 367, 'paper': 368, 'headers': 369, 'hyphenation': 370, 'only)': 371, 'spreadsheet': 372, 'charts.': 373, 'axis.': 374, 'stock': 375, 'angle': 376, 'page,': 377, 'visible': 378, 'layers': 379, 'cannot': 380, 'fixed': 381, 'containing': 382, 'defining': 383, 'bitmap': 384, 'adding': 385, 'footers': 386, 'defined': 387, 'levels': 388, 'indexes': 389, 'breaks': 390, 'autotext': 391, 'regression': 392, 'category': 393, 'additional': 394, 'multiple': 395, 'spacing': 396, 'arrows': 397, 'displayed': 398, 'font': 399, 'negative': 400, 'assign': 401, 'off': 402, 'list,': 403, 'exit': 404, 'moving': 405, 'sorter': 406, 'master.': 407, 'indents': 408, 'duplicate': 409, 'sound': 410, 'these': 411, 'single': 412, 'minor': 413, 'function': 414, 'uses': 415, 'enable': 416, '=': 417, 'must': 418, 'hidden': 419, 'manually': 420, 'both': 421, 'light': 422, 'borders': 423, 'field.': 424, 'orientation': 425, 'language': 426, 'animated': 427, 'converting': 428, 'wrap': 429, 'context': 430, 'formats': 431, 'area.': 432, 'deletes': 433, 'format.': 434, 'created': 435, 'rotate': 436, 'around': 437, 'go': 438, 'special': 439, 'window': 440, 'border': 441, 'to.': 442, 'until': 443, 'objects;': 444, 'click.': 445, 'keyboard': 446, 'unfilled': 447, 'smart': 448, 'conditional': 449, 'ranges': 450, 'export': 451, 'right-click': 452, 'types': 453, 'secondary': 454, 'applies': 455, 'but': 456, 'areas': 457, 'button.': 458, 'help': 459, 'length': 460, 'empty': 461, 'guides': 462, 'load': 463, 'resize': 464, 'shapes': 465, 'deleting': 466, 'guide': 467, 'formula': 468, 'selected,': 469, 'through': 470, 'may': 471, 'including': 472, 'currently': 473, 'include': 474, 'active': 475, 'text,': 476, 'fill': 477, 'segment': 478, 'window.': 479, 'pane': 480, 'presentation.': 481, 'fit': 482, 'mode': 483, 'tables;': 484, 'tags': 485, 'caption': 486, 'data.': 487, 'calc': 488, 'mode.': 489, 'major': 490, 'labels.': 491, 'equation': 492, 'does': 493, 'shown.': 494, 'information': 495, 'x-y': 496, 'second': 497, 'below': 498, 'defines': 499, 'mark': 500, 'side': 501, 'three': 502, 'selecting': 503, 'showing': 504, 'several': 505, 'frame.': 506, 'user-defined': 507, 'chart,': 508, 'grids': 509, 'scale': 510, 'such': 511, 'selected.': 512, 'specific': 513, 'lower': 514, 'distance': 515, 'setting': 516, 'height': 517, 'entire': 518, '1': 519, 'rectangle': 520, 'effect.': 521, 'existing': 522, 'width': 523, 'ufi:': 524, 'bezier': 525, 'handout': 526, 'arrange': 527, 'rectangle,': 528, 'handles': 529, 'toolbar,': 530, 'images': 531, 'during': 532, 'arc': 533, 'bibliography': 534, 'charts;': 535, 'how': 536, 'update': 537, 'attributes': 538, 'line,': 539, 'key.': 540, 'sub-type': 541, 'z-axis': 542, 'about': 543, 'colours': 544, 'entry.': 545, 'values.': 546, 'always': 547, 'columns.': 548, 'whether': 549, 'space': 550, 'applied': 551, 'switch': 552, 'relative': 553, 'reverse': 554, 'picture': 555, 'backgrounds': 556, 'layer.': 557, 'split': 558, 'content': 559, 'pages.': 560, 'tab,': 561, 'frame,': 562, 'thesaurus': 563, 'item': 564, 'creates': 565, 'mean': 566, '&': 567, 'positions': 568, '+': 569, 'y': 570, 'percentage': 571, 'label': 572, 'cell.': 573, 'within': 574, 'support': 575, 'feature': 576, 'main': 577, 'behind': 578, '2': 579, 'above': 580, 'count': 581, 'even': 582, 'graphic': 583, 'template.': 584, '>': 585, 'toolbar.': 586, 'characters': 587, 'merge': 588, 'without': 589, '45': 590, 'frames': 591, 'paragraph.': 592, 'browse': 593, 'spelling': 594, 'square,': 595, 'bend': 596, 'cells.': 597, 'functions': 598, 'should': 599, 'standard': 600, 'view.': 601, 'there': 602, 'input': 603, '...': 604, 'they': 605, '3': 606, 'range.': 607, 'alignment': 608, 'displaying': 609, 'over': 610, 'again': 611, 'letter': 612, 'switches': 613, 'complex': 614, 'price': 615, 'beginning': 616, 'remains': 617, 'changes.': 618, 'anywhere': 619, 'flow': 620, 'sector,': 621, 'fpe:': 622, 'timings': 623, 'repeat': 624, 'number.': 625, 'interaction': 626, 'ole': 627, 'animation.': 628, 'ruler': 629, 'black': 630, 'ends.': 631, 'contour': 632, 'ellipse,': 633, 'centre': 634, 'bends': 635, 'circles': 636, 'style,': 637, 'segment,': 638, 'styles,': 639, 'sub-documents': 640, 'protection': 641, 'condition': 642, 'inside': 643, 'point,': 644, 'icons': 645, 'bars': 646, 'y-axis.': 647, 'categories.': 648, 'smooth': 649, 'options.': 650, 'charts,': 651, 'form': 652, 'table,': 653, 'categories': 654, 'near': 655, 'now': 656, 'formatted': 657, 'contents.': 658, 'result': 659, 'hiding': 660, 'every': 661, 'allow': 662, 'printer': 663, '/': 664, 'advance': 665, 'rehearse': 666, 'locate': 667, 'play': 668, 'shape.': 669, '–': 670, 'files': 671, 'handle': 672, 'hyperlink': 673, 'white': 674, 'gallery': 675, 'radius': 676, 'diameter': 677, 'index/table': 678, 'menu.': 679, 'many': 680, 'names': 681, 'x': 682, 'points.': 683, 'lines.': 684, 'interval': 685, 'edges': 686, 'changed.': 687, 'working': 688, 'make': 689, 'allows': 690, 'letters': 691, 'marks': 692, 'combine': 693, 'running': 694, 'applying': 695, 'presentations;': 696, 'run': 697, 'adding;': 698, 'location.': 699, 'copying': 700, 'gif': 701, 'predefined': 702, 'anchor': 703, 'freeform': 704, 'objects,': 705, 'vector': 706, 'speed': 707, 'bulleted': 708, 'direct': 709, 'styles;': 710, 'calculating': 711, 'typing': 712, 'captions': 713, 'turning': 714, 'selections': 715, 'leave': 716, 'y-error': 717, 'bars.': 718, 'coefficient': 719, 'their': 720, 'calculate': 721, 'status': 722, 'stacked': 723, 'colour.': 724, 'just': 725, 'organise': 726, 'arrangement': 727, 'along': 728, 'spreadsheet,': 729, 'get': 730, 'contain': 731, 'corresponding': 732, 'off.': 733, 'release': 734, 'clicking': 735, 'languages': 736, 'removed': 737, 'linked': 738, 'view,': 739, 'adjust': 740, 'closed': 741, 'layouts': 742, 'image.': 743, 'gradient': 744, 'connectors': 745, 'animations': 746, '<': 747, 'sign': 748, 'resizing': 749, 'updated': 750, 'pages;': 751, 'motion': 752, 'fields;': 753, 'it.': 754, 'was': 755, 'skew': 756, 'sub-menu.': 757, 'drag-and-drop': 758, 'styles.': 759, 'wrapping': 760, 'constrain': 761, 'square': 762, 'subpoints': 763, 'section.': 764, 'moved': 765, 'here': 766, 'outer': 767, 'element': 768, 'outside': 769, 'high': 770, 'grid.': 771, 'value.': 772, 'preview.': 773, 'x-axis.': 774, 'works': 775, 'provides': 776, 'copied': 777, 'values,': 778, 'instead': 779, 'net': 780, 'focus': 781, 'other.': 782, 'like': 783, 'transitions': 784, 'determines': 785, 'would': 786, 'scaling': 787, 'remaining': 788, 'address': 789, 'possible': 790, 'unmark': 791, 'default,': 792, 'axes;': 793, 'column.': 794, 'formatting;': 795, 'large': 796, 'numbers.': 797, 'links': 798, 'positioning': 799, 'sector': 800, 'toolbars': 801, 'margins': 802, 'clear': 803, 'duration': 804, 'handouts': 805, 'ensure': 806, 'screen': 807, 'printed': 808, 'location': 809, 'button,': 810, 'search': 811, 'paths': 812, 'placeholder': 813, 'boxes.': 814, 'format,': 815, 'task': 816, 'hides': 817, 'runs': 818, 'program': 819, 'amount': 820, 'part': 821, 'extend': 822, 'degrees,': 823, 'paragraph,': 824, 'hyperlinks': 825, 'numbering;': 826, 'under': 827, 'splitting': 828, 'organiser': 829, 'sub-document': 830, 'them': 831, 'own': 832, 'properties.': 833, 'title.': 834, 'determination': 835, 'boxes': 836, 'lines,': 837, 'linear': 838, 'curve.': 839, 'b': 840, 'segments': 841, 'order.': 842, 'align': 843, 'least': 844, 'small': 845, 'doughnut': 846, 'degrees': 847, 'either': 848, 'size.': 849, 'category.': 850, 'group.': 851, 'perspective': 852, 'polygon.': 853, 'already': 854, 'activate': 855, 'closing': 856, 'volume': 857, 'columns,': 858, 'reference': 859, 'finish': 860, 'named': 861, 'bubble': 862, 'odd': 863, 'show/hide': 864, 'reduce': 865, 'workspace.': 866, 'animating': 867, 'hatching': 868, 'slides,': 869, 'icon,': 870, 'user': 871, 'quickly': 872, 'plus': 873, 'tables,': 874, 'find': 875, 'placeholders': 876, 'centred': 877, 'selection.': 878, 'web': 879, 'again.': 880, 'stacking': 881, '(variable)': 882, 'converts': 883, 'appear': 884, 'documents;': 885, 'stop': 886, '(fixed)': 887, ')': 888, 'protected': 889, 'circle,': 890, 'spell-check': 891, 'indent': 892, 'register-true': 893, 'scope': 894, 'store': 895, 'updating': 896, 'checking': 897, 'recognition': 898, 'writer,': 899, '(for': 900, 'colour,': 901, 'r²': 902, 'controls': 903, 'power': 904, 'follows': 905, 'y-values': 906, 'best': 907, 'desired': 908, 'plots': 909, 'longer': 910, 'data,': 911, 'basic': 912, 'generate': 913, 'buttons': 914, 'mouse.': 915, 'attached': 916, 'axis,': 917, 'versions': 918, 'continue': 919, 'spin': 920, 'full': 921, 'subtitle': 922, 'enabled,': 923, 'shading': 924, 'look': 925, 'simple': 926, 'later': 927, 'transaction': 928, '4': 929, 'back': 930, 'gridlines': 931, 'smaller': 932, 'rectangles': 933, 'right.': 934, 'commands.': 935, 'filling': 936, 'slides;': 937, 'becomes': 938, 'plays': 939, 'transferred': 940, 'general': 941, 'pause': 942, 'footer,': 943, 'return': 944, 'importing': 945, 'steps': 946, 'lines;': 947, 'anchors': 948, 'rotating': 949, 'dimensions': 950, 'landscape': 951, 'appears': 952, 'metafile': 953, 'jumps': 954, 'object(s)': 955, 'action': 956, 'target': 957, 'macro': 958, 'connector.': 959, 'headings': 960, '90-degree': 961, 'window,': 962, 'flip': 963, 'distort': 964, 'endpoint': 965, 'documents.': 966, 'replace': 967, 'modifying': 968, 'superscript': 969, 'indexes;': 970, 'aids': 971, 'paragraphs;': 972, 'frames;': 973, 'bullet': 974, 'character.': 975, 'database': 976, 'style1': 977, 'wildcards': 978, 'regular': 979, 'grammar': 980, 'lowercase': 981, 'command.': 982, 'type,': 983, 'label.': 984, 'x-values': 985, 'calculated': 986, 'datax)': 987, 'statistics': 988, 'ln(datax))': 989, 'related': 990, 'variables': 991, 'calculation': 992, 'original': 993, 'position.': 994, 'connected': 995, 'connects': 996, 'stack': 997, 'drawn': 998, 'percent': 999, 'scaled': 1000, 'curve,': 1001, 'choosing': 1002, 'curves.': 1003, 'b-spline': 1004, 'those': 1005, 'down.': 1006, 'role': 1007, 'below.': 1008, 'depending': 1009, 'only.': 1010, 'connect': 1011, 'were': 1012, 'missing': 1013, 'value,': 1014, 'column,': 1015, 'valid': 1016, 'look.': 1017, 'spreadsheet.': 1018, 'entered': 1019, 'perpendicular': 1020, 'views': 1021, 'appearance': 1022, 'scheme': 1023, 'combination': 1024, 'gradients': 1025, 'on.': 1026, 'sphere': 1027, 'disable': 1028, 'out': 1029, 'separator': 1030, 'wall': 1031, 'floor': 1032, 'four': 1033, 'write': 1034, 'mouse,': 1035, 'displayed.': 1036, 'minimum': 1037, 'larger': 1038, 'inner': 1039, 'send': 1040, 'sheet': 1041, 'listed': 1042, 'break.': 1043, 'specified': 1044, 'placed': 1045, 'editing;': 1046, 'total': 1047, 'circle.': 1048, 'separate': 1049, 'shortcuts': 1050, 'checked': 1051, 'once': 1052, 'dragging': 1053, 'printing;': 1054, 'bitmaps': 1055, 'import': 1056, 'ok.': 1057, 'times': 1058, 'dedr:': 1059, 'exporting': 1060, 'slide:': 1061, 'converting;': 1062, 'saved': 1063, 'cell,': 1064, 'blank': 1065, 'link.': 1066, 'instructions': 1067, 'viewing': 1068, 'called': 1069, 'tool': 1070, 'animate': 1071, 'delay': 1072, 'polygons': 1073, 'graphic.': 1074, 'insert.': 1075, 'spacebar': 1076, 'graphics,': 1077, 'files.': 1078, 'property': 1079, 'expand': 1080, 'includes': 1081, 'groups': 1082, 'sequence.': 1083, 'summary': 1084, 'respect': 1085, 'navigating': 1086, 'letters.': 1087, 'endpoint.': 1088, 'across': 1089, 'resized,': 1090, 'header.': 1091, 'removing': 1092, 'shadings': 1093, 'contents;': 1094, 'cells;': 1095, 'plain': 1096, 'wildcard': 1097, 'brochure': 1098, 'against': 1099, 'protect': 1100, 'counts': 1101, 'documents,': 1102, 'axes,': 1103, 'titles,': 1104, 'axes.': 1105, 'curves,': 1106, 'logarithmic': 1107, 'exponential': 1108, '1,': 1109, 'might': 1110, 'model': 1111, 'optimal': 1112, 'degree': 1113, 'absolute': 1114, 'radial': 1115, '(scatter)': 1116, 'consisting': 1117, 'cubic': 1118, 'spline': 1119, 'series,': 1120, 'entry,': 1121, 'minimise': 1122, 'ranges.': 1123, 'dialog': 1124, 'field,': 1125, 'removes': 1126, 'given': 1127, 'together': 1128, 'direction.': 1129, '90': 1130, '0': 1131, 'degrees.': 1132, 'neighbour': 1133, 'modifies': 1134, 'note': 1135, 'decreasing': 1136, 'marked,': 1137, 'ways': 1138, 'according': 1139, 'take': 1140, 'subtract': 1141, 'upper': 1142, 'z': 1143, 'three-dimensional': 1144, 'labels,': 1145, 'responds': 1146, 'cancel': 1147, 'right-angled': 1148, 'x-': 1149, 'parallel': 1150, 'half': 1151, 'way': 1152, 'settings.': 1153, 'source.': 1154, 'been': 1155, 'opening': 1156, 'low,': 1157, 'measurement': 1158, 'long': 1159, 'them.': 1160, 'activates': 1161, 'otherwise,': 1162, 'sum': 1163, ':': 1164, 'whole': 1165, 'labelling': 1166, 'wheel': 1167, 'correspond': 1168, 'tile': 1169, 'start,': 1170, 'esc': 1171, 'arrow.': 1172, 'enlarge': 1173, 'yj:': 1174, 'features': 1175, 'backgrounds;': 1176, 'pages,': 1177, 'layers.': 1178, 'layer,': 1179, 'layers;': 1180, 'deleting;': 1181, 'removing;...': 1182, 'deleting;...': 1183, 'pane.': 1184, 'timing': 1185, 'short': 1186, 'per': 1187, 'header,': 1188, 'let': 1189, 'saving': 1190, 'finished.': 1191, 'underlying': 1192, 'cycle': 1193, 'resized': 1194, 'conversion': 1195, 'object:': 1196, 'spreadsheets': 1197, 'pages:': 1198, 'adjacent': 1199, 'filename,': 1200, 'editor': 1201, 'effects.': 1202, 'path': 1203, 'ctrl+enter': 1204, 'playing': 1205, 'navigate': 1206, 'floating': 1207, 'orientation,': 1208, 'entering': 1209, 'portrait': 1210, 'tray': 1211, 'onto': 1212, 'dates': 1213, 'inserted.': 1214, 'mouse-click': 1215, 'pen': 1216, 'monitor': 1217, 'case': 1218, 'point/line': 1219, 'ruler.': 1220, 'created.': 1221, 'polygon,': 1222, 'promote': 1223, 'demote': 1224, 'copy.': 1225, 'dim': 1226, 'paragraphs,': 1227, 'paragraphs.': 1228, 'transparency': 1229, 'ellipse.': 1230, 'followed': 1231, '(guide)': 1232, 'ruler,': 1233, 'f2.': 1234, 'subscript': 1235, 'writing': 1236, 'collected': 1237, 'words.': 1238, 'sections;': 1239, 'formulae': 1240, 'alternating': 1241, 'footer.': 1242, 'directly': 1243, 'resetting': 1244, 'continuation': 1245, 'hyphenate': 1246, 'sub-documents.': 1247, 'capital': 1248, 'mail': 1249, 'templates;': 1250, 'exceptions': 1251, 'counting': 1252, 'overview': 1253, 'lets': 1254, 'present': 1255, 'draw,': 1256, 'range,': 1257, 'alternatively,': 1258, 'graphical': 1259, 'legend.': 1260, 'gets': 1261, 'none': 1262, '2,': 1263, 'automatically.': 1264, 'mode,': 1265, 'fitting': 1266, '*': 1267, 'polynomial': 1268, 'sub-menu': 1269, 'tabs': 1270, 'areas.': 1271, 'however,': 1272, 'scatter': 1273, 'indicators': 1274, 'illumination': 1275, '3.': 1276, 'bring': 1277, 'mathematical': 1278, 'organising': 1279, 'semicolon': 1280, 'y-values,': 1281, 'primary': 1282, 'default.': 1283, 'aligned': 1284, 'assigned': 1285, 'overlapping': 1286, 'connection': 1287, 'zero': 1288, 'enlarging': 1289, 'consist': 1290, 'consecutive': 1291, 'spans': 1292, 'percentage.': 1293, 'sheet.': 1294, 'z-axis.': 1295, 'spec': 1296, 'generated': 1297, 'corresponds': 1298, 'returns': 1299, 'angles': 1300, 'is,': 1301, 'enabled': 1302, '100%': 1303, 'method': 1304, 'used.': 1305, 'eight': 1306, 'uniform': 1307, 'ambient': 1308, 'turn': 1309, 'enables': 1310, 'unit': 1311, 'consists': 1312, 'side.': 1313, 'embedded': 1314, 'required': 1315, 'row.': 1316, 'scaling;': 1317, 'increase': 1318, 'reduces': 1319, 'sections.': 1320, 'forwards': 1321, 'easily': 1322, 'intended': 1323, 'deleted.': 1324, 'abcd': 1325, 'sectors': 1326, 'separated': 1327, 'access': 1328, 'home': 1329, 'f3': 1330, 'few': 1331, 'object(s).': 1332, 'items': 1333, 'quick': 1334, 'masters': 1335, 'apply.': 1336, 'invisible': 1337, 'locked': 1338, 'transition.': 1339, 'pressing': 1340, 'handouts.': 1341, 'gradient,': 1342, 'background,': 1343, 'background.': 1344, 'imported': 1345, 'my': 1346, 'flowchart': 1347, 'appear.': 1348, 'shape,': 1349, 'grouped': 1350, 'screenshot.': 1351, 'impress.': 1352, 'switching': 1353, 'contents,': 1354, 'description': 1355, 'rectangular': 1356, 'cells,': 1357, 'loading': 1358, 'list:': 1359, 'slide(s)': 1360, 'create.': 1361, 'applying;': 1362, 'arranging': 1363, 'copying;': 1364, 'selection,': 1365, 'lowermost': 1366, 'common': 1367, 'stops': 1368, 'mouse-click.': 1369, 'soon': 1370, 'windows': 1371, 'unused': 1372, 'rename': 1373, 'change.': 1374, 'updated.': 1375, 'combined': 1376, 'cross-fading': 1377, 'macromedia': 1378, 'flash': 1379, 'open.': 1380, 'well': 1381, 'reset': 1382, 'enter.': 1383, 'intersect': 1384, 'being': 1385, 'key,': 1386, 'prints': 1387, 'animates': 1388, 'word.': 1389, 'drawing.': 1390, 'previously': 1391, '+page': 1392, '+a': 1393, 'combining': 1394, 'handles.': 1395, 'pivot': 1396, '(45°)': 1397, 'torus': 1398, 'cylinder': 1399, 'cone': 1400, 'attaches': 1401, 'most': 1402, 'contained': 1403, 'scanned': 1404, 'pictures;': 1405, 'scanning': 1406, 'scanner': 1407, 'creating;': 1408, 'index.': 1409, 'multi-page': 1410, 'reduced': 1411, 'sums': 1412, 'cross-references': 1413, 'installed': 1414, 'frames,': 1415, 'frames.': 1416, 'paragraph(s)': 1417, 'anchored': 1418, 'operators': 1419, 'non-printing': 1420, 'hidden_text.xhp': 1421, 'numbers;': 1422, 'number,': 1423, 'wiki': 1424, 'f9.': 1425, 'blocks': 1426, 'expressions': 1427, 'underlined': 1428, 'quotation': 1429, 'accidental': 1430, 'abbreviations': 1431, 'capitals': 1432, 'bibliographic': 1433, 'rule': 1434, 'directories': 1435, 'formula,': 1436, 'presentations.': 1437, 'impress,': 1438, 'more.': 1439, 'legend,': 1440, 'menu,': 1441, 'element.': 1442, 'trendline': 1443, 'resets': 1444, 'drop': 1445, 'toggles': 1446, 'visibility': 1447, 'note:': 1448, 'known': 1449, 'except': 1450, '3,': 1451, '…': 1452, 'gives': 1453, 'x-values.': 1454, 'parameters': 1455, 'linest': 1456, 'logarithm': 1457, 'takes': 1458, 'place.': 1459, 'results': 1460, 'ln(y)': 1461, 'ln(b)': 1462, 'follows:': 1463, 'regression:': 1464, 'leftmost': 1465, 'total.': 1466, 'higher': 1467, 'visible,': 1468, 'deviation': 1469, 'xy': 1470, 'coordinate': 1471, 'graph': 1472, 'variants': 1473, 'variant': 1474, 'resolution': 1475, 'piece': 1476, '(line': 1477, 'optionally': 1478, 'too': 1479, 'role.': 1480, 'other,': 1481, 'role,': 1482, 'shrinky': 1483, 'maximum': 1484, 'overlap': 1485, 'necessary': 1486, 'clockwise': 1487, 'opposite': 1488, '12': 1489, 'older': 1490, 'software': 1491, 'counterclockwise': 1492, 'avoid': 1493, 'indicator': 1494, 'respective': 1495, 'shrink': 1496, '(+)': 1497, '(-)': 1498, 'title,': 1499, 'elements:': 1500, '3d': 1501, 'pie,': 1502, 'state': 1503, 'circles.': 1504, 'borders.': 1505, 'lights': 1506, 'central': 1507, 'edge.': 1508, 'sources': 1509, 'realistic': 1510, 'gouraud': 1511, 'flat': 1512, 'brightness': 1513, 'affect': 1514, 'together.': 1515, 'subdivisions.': 1516, 'scaling.': 1517, 'placement': 1518, '(ctl).': 1519, 'enabled.': 1520, 'price.': 1521, 'low': 1522, 'price)': 1523, '15': 1524, '17': 1525, 'open,': 1526, 'optional': 1527, 'variant,': 1528, 'volume.': 1529, 'combines': 1530, 'because': 1531, 'units': 1532, 'organised': 1533, 'parts': 1534, 'third': 1535, 'bottom.': 1536, 'divide': 1537, 'subdivide': 1538, 'rows.': 1539, 'backwards': 1540, 'wizard.': 1541, 'back.': 1542, 'offer': 1543, 'live': 1544, 'undo': 1545, 'cut': 1546, 'space.': 1547, 'stagger': 1548, 'cross': 1549, 'end.': 1550, 'fields.': 1551, 'enhanced': 1552, 'arc,': 1553, 'proportional': 1554, 'centre.': 1555, 'give': 1556, '$[officename].': 1557, 'shift+tab': 1558, 'updates': 1559, 'application.': 1560, 'welcome': 1561, 'menus,': 1562, 'on-screen': 1563, 'masters;': 1564, 'master,': 1565, 'template,': 1566, 'exchange': 1567, 'drawings': 1568, 'holding': 1569, 'transitions;': 1570, 'tasks': 1571, 'shows;': 1572, 'exist': 1573, 'auto': 1574, 'filename.odp': 1575, 'directory.': 1576, 'curves;': 1577, 'represented': 1578, 'shape:': 1579, 'printed.': 1580, 'print.': 1581, 'id': 1582, 'picture.': 1583, 'imaginary': 1584, 'audience': 1585, 'record': 1586, 'keep': 1587, 'hot': 1588, 'spots': 1589, 'interactions;': 1590, 'pasting': 1591, 'zooming': 1592, 'keypad': 1593, 'keyboard;': 1594, 'sign.': 1595, 'scroll': 1596, 'footers;': 1597, 'date,': 1598, 'visible.': 1599, 'date/time': 1600, 'html;': 1601, 'documents;inserting': 1602, 'file,': 1603, 'particular': 1604, 'out.': 1605, 'characters;': 1606, 'definition': 1607, 'distributes': 1608, 'among': 1609, 'cleaned.': 1610, 'segment.': 1611, 'colours,': 1612, 'colours;': 1613, 'hatches': 1614, 'file:': 1615, 'needs': 1616, 'show:': 1617, 'show,': 1618, 'reviewed': 1619, 'individually': 1620, 'box).': 1621, 'loop': 1622, 'panel': 1623, 'add,': 1624, 'polygons,': 1625, 'extrusion': 1626, 'margins,': 1627, 'printable': 1628, 'columns;': 1629, 'author': 1630, 'colour/greyscale': 1631, 'greyscale': 1632, 'white.': 1633, 'sounds;': 1634, 'effects;': 1635, 'sounds': 1636, 'present,': 1637, 'available:': 1638, 'edited': 1639, 'seconds': 1640, 'represents': 1641, 'speaker': 1642, 'monitors': 1643, 'from,': 1644, 'specify.': 1645, 'logo': 1646, 'never': 1647, 'marked.': 1648, 'span': 1649, 'turns': 1650, 'result.': 1651, 'applied.': 1652, 'guides;': 1653, 'guides.': 1654, 'writer.': 1655, 'image,': 1656, 'jpeg': 1657, 'exported': 1658, 'pictures': 1659, 'searches': 1660, 'rows;': 1661, '3-d.': 1662, 'reorder': 1663, 'hierarchy.': 1664, 'level,': 1665, 'copies': 1666, 'making': 1667, 'prevent': 1668, 'edited.': 1669, 'follow': 1670, 'resizes': 1671, 'navigator;': 1672, 'jump': 1673, 'increasing': 1674, 'entries.': 1675, \"don't\": 1676, 'another.': 1677, 'subsequent': 1678, 'baseline': 1679, 'places': 1680, 'frequently': 1681, '(only': 1682, 'body': 1683, 'click:': 1684, 'f5': 1685, 'views;': 1686, 'showing;': 1687, 'callouts': 1688, 'callout': 1689, 'highlighting': 1690, 'screenshot': 1691, 'symmetry': 1692, 'prompted': 1693, 'constrained': 1694, 'cube': 1695, 'shell': 1696, 'ellipses': 1697, 'sizes': 1698, 'menus': 1699, 'origin': 1700, 'grey': 1701, 'important': 1702, 'structure': 1703, 'ctl': 1704, 'headers;': 1705, '“default”': 1706, 'dictionaries;': 1707, 'indenting': 1708, 'margins.': 1709, 'languages.': 1710, '=sum': 1711, 'function;': 1712, 'word,': 1713, 'accept': 1714, 'fine-tuning': 1715, 'rows,': 1716, 'browser.': 1717, 'variable.': 1718, 'linking': 1719, 'inserting;text': 1720, 'frame/object': 1721, 'update.': 1722, 'greater': 1723, 'use.': 1724, 'headings,': 1725, 'characters.': 1726, 'headings;': 1727, 'bold': 1728, 'inserting/deleting': 1729, 'sections,': 1730, 'dde': 1731, 'included': 1732, 'roman': 1733, 'hyphenate.': 1734, 'suggested': 1735, 'rearranging': 1736, 'unprotect': 1737, 'words,': 1738, 'sub2.odt': 1739, 'term': 1740, 'period': 1741, 'matches': 1742, 'autocaption': 1743, 'repeating': 1744, 'occur': 1745, 'reducing': 1746, 'borders;': 1747, 'business': 1748, 'salutation': 1749, 'secure': 1750, 'protection.': 1751, 'tables.': 1752, 'perform': 1753, 'trays': 1754, 'calculating;': 1755, 'footnotes': 1756, 'cursor.': 1757, 'defined,': 1758, 'hide==1': 1759, 'hyphenated': 1760, 'equal': 1761, 'bibliographies': 1762, 'merging': 1763, 'macros': 1764, 'reminder': 1765, '+insert,': 1766, '+delete,': 1767, 'compare': 1768, 'spreadsheets,': 1769, 'drawings,': 1770, '(you': 1771, '(object': 1772, 'borders,': 1773, 'mode:': 1774, 'grid,': 1775, 'scale,': 1776, 'offers': 1777, 'wall.': 1778, 'floor.': 1779, 'indicators.': 1780, 'equation.': 1781, 'titles.': 1782, 'r².': 1783, 'rescales': 1784, 'alter': 1785, 'elements.': 1786, 'hid': 1787, 'm': 1788, 'slope(datay;': 1789, 'intercept(datay;': 1790, 'rsq(datay;': 1791, 'analysis.': 1792, 'transformation': 1793, 'accordingly.': 1794, 'transformed': 1795, 'respectively.': 1796, 'slope(ln(datay);': 1797, 'datax))': 1798, 'exp(intercept(ln(datay);': 1799, 'rsq(ln(datay);': 1800, 'values:': 1801, 'considered,': 1802, 'transform': 1803, 'work': 1804, 'manually.': 1805, 'x,': 1806, 'complete': 1807, 'xⁿ': 1808, 'output': 1809, 'details': 1810, 'represent': 1811, 'depend': 1812, 'radar': 1813, \"chart's\": 1814, 'next.': 1815, 'on,': 1816, 'finally': 1817, 'drawn.': 1818, 'cumulatively': 1819, 'ensures': 1820, 'pair': 1821, 'system.': 1822, 'statistical': 1823, 'icons.': 1824, 'sort': 1825, 'segments.': 1826, 'pieces': 1827, 'intermediate': 1828, 'built': 1829, 'polynomials.': 1830, 'regina:': 1831, 'watch': 1832, 'charts/x-y': 1833, 'passes': 1834, 'points,': 1835, 'resolution.': 1836, 'model.': 1837, 'here.': 1838, 'components.': 1839, 'states': 1840, 'delimiter': 1841, 'texts': 1842, 'marked': 1843, 'unchecked': 1844, 'types.': 1845, 'percent.': 1846, \"o'clock\": 1847, 'direction,': 1848, '359': 1849, 'plot': 1850, 'sometimes': 1851, 'please': 1852, 'problems': 1853, 'arise': 1854, 'small.': 1855, 'calc,': 1856, '$sheet1.$b$3:$b$14': 1857, 'region': 1858, 'e.g.': 1859, '$sheet1.a1:a5;$sheet1.d1:d5': 1860, 'table1.a1:e4': 1861, 'both.': 1862, 'final': 1863, 'columns:': 1864, 'rows:': 1865, 'comprise': 1866, 'negativeerrorvalue': 1867, 'constant': 1868, 'highest': 1869, 'obtain': 1870, 'bottom,': 1871, '2nd': 1872, 'doc)': 1873, 'a,': 1874, 'b,': 1875, 'finished,': 1876, 'statistics,': 1877, 'dimensional': 1878, 'opened': 1879, 'y-directions,': 1880, 'programs.': 1881, 'camera': 1882, 'scheme,': 1883, 'otherwise': 1884, 'soft': 1885, 'shapes.': 1886, 'specular': 1887, 'highlights.': 1888, 'intensity': 1889, 'buttons.': 1890, 'internal': 1891, 'cube.': 1892, 'directions.': 1893, 'slider': 1894, 'belonging': 1895, 'grids;': 1896, 'sub-menu,': 1897, 'y-axis;': 1898, 'z-axis;': 1899, 'x-,': 1900, '6': 1901, 'cm.': 1902, 'legends;': 1903, 'selects': 1904, 'menu:': 1905, 'price,': 1906, 'arranged': 1907, 'e': 1908, '20': 1909, '32': 1910, '30': 1911, '5': 1912, 'units.': 1913, 'chosen': 1914, 'generates': 1915, 'candle': 1916, 'stick': 1917, 'visualises': 1918, 'volume,': 1919, 'variant.': 1920, 'name.': 1921, 'fine': 1922, 'tuning': 1923, 'entered.': 1924, 'actual': 1925, 'one,': 1926, 'components': 1927, 'para,': 1928, 'subtitle.': 1929, 'floors': 1930, 'charts;scaling': 1931, 'achieve': 1932, 'interval,': 1933, 'systems': 1934, 'assigning': 1935, 'especially': 1936, 'turned': 1937, '(to': 1938, 'types;column': 1939, 'labelled': 1940, 'line)': 1941, 'walls': 1942, 'reopen': 1943, 'fields,': 1944, 'assigns': 1945, 'useful': 1946, 'types:': 1947, 'arranges': 1948, 'depends': 1949, 'legends': 1950, 'types;': 1951, 'join': 1952, 'exploded': 1953, 'hole': 1954, \"doughnut's\": 1955, 'contribution': 1956, 'tries': 1957, 'function...': 1958, 'point)': 1959, 'y-,': 1960, 'keys;': 1961, 'up/down/left/right': 1962, 'f2': 1963, '(in': 1964, 'series).': 1965, '+f3': 1966, '+/-': 1967, 'reorganising': 1968, 'variety': 1969, 'clicks': 1970, 'customise': 1971, 'elements,': 1972, 'legends,': 1973, 'toolbars,': 1974, 'manipulating': 1975, 'windows.': 1976, 'controlling': 1977, 'designs': 1978, 'locking': 1979, 'unlocking': 1980, 'showing;hidden': 1981, 'modifying;...': 1982, 'changing;...': 1983, 'cross-fading;': 1984, 'pane,': 1985, 'from.': 1986, 'starting;': 1987, 'assist': 1988, '-show': 1989, 'overlay': 1990, 'line:': 1991, 'convert,': 1992, 'point:': 1993, 'notes;': 1994, 'paper.': 1995, 'time,': 1996, 'corners': 1997, 'set-up': 1998, 'tell': 1999, 'what': 2000, 'timer': 2001, 'corner.': 2002, 'timer.': 2003, 'connectors;': 2004, 'flowcharts': 2005, 'million': 2006, 'pages)': 2007, 'shapes,': 2008, 'steps.': 2009, 'precisely': 2010, 'factor': 2011, '%productname.': 2012, 'animations;': 2013, 'gifs': 2014, 'moving;': 2015, 'pictures,': 2016, 'empty,': 2017, 'formatting.': 2018, 'covered': 2019, 'reach': 2020, 'order,': 2021, 'keyboard,': 2022, 'shift+tab.': 2023, 'inserted,': 2024, 'directions': 2025, 'active,': 2026, 'character,': 2027, 'various': 2028, 'editing,': 2029, 'printing,': 2030, ').': 2031, 'native': 2032, \"table's\": 2033, 'distribute': 2034, 'handle.': 2035, 'instructions;': 2036, 'miscellaneous': 2037, 'curvature': 2038, 'circles,': 2039, 'tool.': 2040, 'indicate': 2041, 'lists.': 2042, 'optimised': 2043, 'similar': 2044, 'meet': 2045, 'played.': 2046, 'tip': 2047, 'sequence': 2048, 'animate.': 2049, 'path.': 2050, 'closes': 2051, 'finished': 2052, 'transparent': 2053, 'f8': 2054, '($[officename]': 2055, 'cleaned': 2056, 'bitmaps;': 2057, 'broken': 2058, 'placeholder,': 2059, 'workspace,': 2060, 'ctrl+v': 2061, 'generating': 2062, 'fontwork': 2063, 'formatting;slides': 2064, 'horizontal.': 2065, 'layout.': 2066, 'spaces': 2067, 'preserved.': 2068, 'authors': 2069, 'due': 2070, 'greyscale,': 2071, 'dates;': 2072, 'reload': 2073, 'url': 2074, 'lists;': 2075, 'immediately.': 2076, 'glossary': 2077, 'slides/objects': 2078, 'yes': 2079, 'played': 2080, 'starts.': 2081, '(a': 2082, 'presentation,': 2083, 'restarts': 2084, 'repeated.': 2085, 'immediately': 2086, 'advances': 2087, 'desktop': 2088, 'monitor,': 2089, 'supported': 2090, 'system': 2091, 'increments': 2092, 'fill.': 2093, 'reversing': 2094, 'entrance': 2095, 'emphasis': 2096, 'double-clicking': 2097, 'breaking': 2098, 'connections': 2099, 'apart': 2100, 'exiting...': 2101, 'behaves': 2102, 'for.': 2103, 'start.': 2104, 'macro.': 2105, 'clipart,': 2106, 'treats': 2107, 'audience.': 2108, 'available.': 2109, 'subject': 2110, 'keywords': 2111, 'footers;slides': 2112, 'masters.': 2113, 'contours': 2114, 'begin': 2115, 'bounded': 2116, 'holes': 2117, 'fills': 2118, 'vectorised': 2119, 'previews': 2120, 'unlike': 2121, 'replaced': 2122, 'makes': 2123, 'centres': 2124, 'left.': 2125, '(0': 2126, 'copy,': 2127, 'gradient.': 2128, 'f5.': 2129, 'command,': 2130, 'recently': 2131, 'navigator,': 2132, 'window;': 2133, 'differently': 2134, 'create,': 2135, 'paint': 2136, 'bucket': 2137, 'manage': 2138, 'renaming': 2139, 'gradually': 2140, 'enhancements': 2141, 'runs.': 2142, 'after-effect': 2143, 'n': 2144, 'repeated': 2145, '1st': 2146, 'dimensioning': 2147, 'invisible,': 2148, 'baseline.': 2149, '0).': 2150, 'decimal': 2151, 'autovertical': 2152, 'autohorizontal': 2153, 'symbols': 2154, 'increases': 2155, 'shift+f3': 2156, '(%productname': 2157, '(if': 2158, 'else': 2159, 'backspace': 2160, 'event.': 2161, 'in.': 2162, '(number': 2163, 'pad)': 2164, 'command+option': 2165, 'ctrl+alt': 2166, 'ungroup': 2167, '+k': 2168, '+plus': 2169, '+minus': 2170, 'horizontally': 2171, 'vertically.': 2172, 'maintain': 2173, 'escape': 2174, 'behaviour,': 2175, 'allowing;': 2176, 'callout,': 2177, 'connector,': 2178, 'bends)': 2179, 'place,': 2180, 'handles;': 2181, 'gradients;': 2182, 'rotates': 2183, 'screen,': 2184, 'instead,': 2185, '(perspective)': 2186, 'distorts': 2187, '(slant)': 2188, 'release,': 2189, '(45°),': 2190, 'arrow/circle': 2191, 'arrow/square': 2192, 'circle/arrow': 2193, 'square/arrow': 2194, 'dragging.': 2195, 'attributes;': 2196, 'activated,': 2197, 'attributes,': 2198, '50%': 2199, 'drawing,': 2200, 'spheroid,': 2201, 'pyramid': 2202, 'sides': 2203, '(green': 2204, 'hemisphere': 2205, 'arc.': 2206, 'images,': 2207, 'subpoints;': 2208, 'slide/level': 2209, 'levels;': 2210, 'hiding;': 2211, 'multimedia': 2212, 'items.': 2213, 'publishing': 2214, 'topics': 2215, 'double': 2216, 'rulers,': 2217, 'indents,': 2218, 'levels.': 2219, 'left-to-right': 2220, 'right-to-left': 2221, 'standard.': 2222, 'dictionary': 2223, 'dictionaries': 2224, 'changing;indents': 2225, 'indented': 2226, 'margin.': 2227, 'languages,': 2228, 'totals': 2229, 'tables;calculating': 2230, 'cells;calculating': 2231, 'empty.': 2232, 'completions': 2233, 'collects': 2234, 'completes': 2235, 'docking': 2236, 'undock': 2237, 'references;': 2238, 'cross-references;': 2239, 'cross-reference': 2240, 'modify.': 2241, 'extensions': 2242, 'tag,': 2243, 'extension': 2244, 'tag': 2245, 'recognised': 2246, '(+).': 2247, 'inserting,': 2248, 'id=': 2249, 'l10n=': 2250, 'u': 2251, 'oldref=': 2252, 'entries;': 2253, 'hyperlinks;': 2254, 'before/after': 2255, 'hierarchical': 2256, '9': 2257, 'unless': 2258, 'to,': 2259, 'backspace.': 2260, 'covering': 2261, 'documents;indexes': 2262, 'shared/guide/background.xhp': 2263, 'hierarchy': 2264, 'use,': 2265, 'anchoring': 2266, 'spaces.': 2267, 'even/odd': 2268, 'suppress': 2269, 'folder': 2270, 'formats;': 2271, 'formatting;exiting': 2272, 'pressed': 2273, 'occurs': 2274, 'links;inserting': 2275, 'link,': 2276, 'section,': 2277, 'saved.': 2278, '“apply': 2279, 'bullet.': 2280, 'styles;page': 2281, '(name': 2282, 'style)': 2283, 'only,': 2284, 'lists;changing': 2285, 'hyphenate,': 2286, 'indexes/tables': 2287, 'non-consecutive': 2288, 'twice.': 2289, 'adjusting': 2290, 'indicated': 2291, 'triangle': 2292, 'reversed': 2293, 'taken': 2294, 'mw:': 2295, 'globaldoc.xhp': 2296, 'navigator.': 2297, 'completing': 2298, 'word_completion.xhp': 2299, 'further': 2300, 'terms': 2301, 'database,': 2302, 'globaldoc_howtos.xhp': 2303, 'sub-documents,': 2304, 'sub1.odt': 2305, 'imported.': 2306, 'sub-document.': 2307, 'itself': 2308, 'multi-column': 2309, 'examples': 2310, 'characters;finding': 2311, 'finds': 2312, 'expression': 2313, 'occurrences': 2314, 'captions;': 2315, 'captioning': 2316, 'captions.': 2317, 'caption,': 2318, 'proceed': 2319, 'replacing': 2320, 'remove.': 2321, '“default”.': 2322, 'details.': 2323, 'rows/columns': 2324, 'juxtaposing': 2325, 'rest': 2326, 'dividing': 2327, 'brochures': 2328, 'paper,': 2329, 'read': 2330, 'previewing': 2331, 'pages;previews': 2332, 'language,': 2333, 'autospellcheck': 2334, 'wavy': 2335, 'red': 2336, 'checker': 2337, 'page:': 2338, 'correction': 2339, 'letters;changing': 2340, 'replacement': 2341, '+z.': 2342, 'serial': 2343, 'letters;': 2344, 'e-mail.': 2345, 'correct': 2346, 'protecting': 2347, 'password.': 2348, 'password': 2349, 'read-only': 2350, 'chapters': 2351, 'updating,': 2352, 'headers/footers': 2353, 'know': 2354, '“portrait”': 2355, '“landscape”.': 2356, 'style:': 2357, 'updating;': 2358, 'calculations': 2359, 'perform,': 2360, '(+),': 2361, 'cross-reference.': 2362, 'hyperlink.': 2363, 'basis': 2364, 'initial': 2365, 'spreadsheets;inserting': 2366, 'ranges;': 2367, 'headers,': 2368, 'footers,': 2369, 'interrupting': 2370, 'keyboard.': 2371, 'cursor,': 2372, 'additionally': 2373, 'and,': 2374, 'uppercase': 2375, 'capitalise': 2376, 'met.': 2377, 'preventing': 2378, 'using_hyphen.xhp': 2379, 'dictionary.': 2380, 'exclude': 2381, 'code': 2382, 'storing': 2383, 'borders;for': 2384, 'footnote': 2385, 'cells;by': 2386, 'rules': 2387, 'variable,': 2388, 'statement.': 2389, 'f3.': 2390, 'defining;page': 2391, 'centring': 2392, 'words/characters': 2393, 'formulae;': 2394, 'a1': 2395, 'headers/above': 2396, 'numbers,': 2397, 'bold,': 2398, '/text/schart/main0000.xhp': 2399, 'howtos': 2400, 'graphically': 2401, 'visually': 2402, 'trends': 2403, 'data:': 2404, 'calc)': 2405, '-)': 2406, 'shared/01/04160100.xhp': 2407, 'continuous': 2408, 'properties:': 2409, 'alignment,': 2410, 'wrap,': 2411, 'data).': 2412, 'walls,': 2413, 'chart).': 2414, 'element,': 2415, 'quality,': 2416, 'pdf': 2417, 'loss': 2418, 'gain': 2419, 'trendline.': 2420, '(drag': 2421, 'vs': 2422, 'dialog)': 2423, '/text/schart/main0202.xhp': 2424, 'cleared.': 2425, '/text/schart/01/04050100.xhp': 2426, 'calculating;regression': 2427, 'correlation': 2428, '(r2)': 2429, 'none,': 2430, 'linear,': 2431, 'logarithmic,': 2432, 'exponential,': 2433, 'del': 2434, 'chart),': 2435, 'true': 2436, 'suitable.': 2437, 'follows.': 2438, 'y=m*x+b': 2439, 'y=a*ln(x)+b': 2440, 'interpreted': 2441, 'y=b*exp(a*x)': 2442, 'y=b*m^x': 2443, 'a*x': 2444, 'ln(m)*x': 2445, 'variation': 2446, 'exp(slope(ln(datay);': 2447, 'besides': 2448, 'm,': 2449, 'array': 2450, 'logest': 2451, 'x^a': 2452, 'ln(x)': 2453, 'constraints': 2454, 'considers': 2455, 'pairs': 2456, 'considered.': 2457, 'accordingly;': 2458, 'x²,': 2459, 'x³,': 2460, 'xⁿ,': 2461, 'n.': 2462, '=linest(datay,': 2463, '(without': 2464, 'headings)': 2465, 'datax.': 2466, 'coefficients': 2467, 'polynomial,': 2468, 'proper': 2469, 'explanation': 2470, 'parameters.': 2471, '/text/schart/01/type_line.xhp': 2472, 'types;line': 2473, \"curves'\": 2474, '/text/schart/01/05040000.xhp': 2475, '/text/schart/01/type_net.xhp': 2476, 'types;net': 2477, 'resembles': 2478, 'spider': 2479, 'tube': 2480, 'display.': 2481, 'plotted.': 2482, 'magnitude.': 2483, '/text/schart/01/type_area.xhp': 2484, 'types;area': 2485, 'emphasise': 2486, 'y-values.': 2487, 'last,': 2488, 'thus,': 2489, 'others.': 2490, '/text/schart/01/type_xy.xhp': 2491, 'types;x-y': 2492, 'averages': 2493, 'variances': 2494, '(2x)': 2495, 'name,': 2496, 'x‑values,': 2497, 'y‑values.': 2498, '(x_bar_y)': 2499, 'associated': 2500, 'y‑values': 2501, 'tasks:': 2502, 'x‑axis': 2503, 'parameter': 2504, 'spiral': 2505, 'explore': 2506, 'association': 2507, 'quantitative': 2508, 'sorting': 2509, 'time.': 2510, 'interpolates': 2511, 'polynomials': 2512, 'smooth,': 2513, 'having': 2514, 'slope': 2515, 'curvature.': 2516, 'piecewise': 2517, 'k': 2518, 'issue': 2519, '72218,': 2520, 'ui': 2521, '/text/schart/01/smooth_line_properties.xhp': 2522, 'curves;properties': 2523, 'properties;smooth': 2524, 'type),': 2525, 'b-spline.': 2526, 'models': 2527, 'influence': 2528, 'leads': 2529, 'smoother': 2530, '1088553477': 2531, '1088553478': 2532, '1088559618': 2533, '1088559617': 2534, '/text/schart/01/wiz_data_series.xhp': 2535, 'separately,': 2536, 'unnecessary': 2537, 'seem': 2538, 'skip': 2539, 'here,': 2540, '(assumed': 2541, 'columns)': 2542, 'erase': 2543, 'address.': 2544, '^': 2545, 'v': 2546, '/text/schart/01/04060000.xhp': 2547, 'aligning;': 2548, 'aligning': 2549, 'charts;options': 2550, 'vary': 2551, 'to:': 2552, 'modes.': 2553, 'separately.': 2554, 'active.': 2555, '600%.': 2556, '-100': 2557, '+100%.': 2558, '(vertical': 2559, 'bar)': 2560, 'belong': 2561, 'independently,': 2562, 'dot': 2563, 'software,': 2564, '(2-d': 2565, 'charts)': 2566, '(3-d': 2567, 'charts).': 2568, 'gap': 2569, 'net.': 2570, 'assume': 2571, 'y-value': 2572, 'zero.': 2573, 'interpolation': 2574, 'x-y.': 2575, '/text/schart/01/05020101.xhp': 2576, 'aligning;titles': 2577, 'titles;alignment': 2578, '/text/schart/01/wiz_data_range.xhp': 2579, '/text/schart/01/04050000.xhp': 2580, 'i85330': 2581, 'positiveerrorvalue.': 2582, 'term,': 2583, 'positiveerrorvalue': 2584, 'amounts': 2585, 'explicitly.': 2586, 'refers': 2587, 'error:': 2588, 'error.': 2589, 'variance:': 2590, 'variance': 2591, 'deviation:': 2592, '(square': 2593, 'root': 2594, 'variance).': 2595, 'margin:': 2596, 'margin': 2597, 'restore': 2598, 'titled': 2599, 'y-error-bars': 2600, 'y-error-bars.': 2601, 'indicator.': 2602, 'indicators,': 2603, '/text/schart/01/wiz_chart_elements.xhp': 2604, '(horizontal).': 2605, 'axisx': 2606, '(vertical).': 2607, 'subtitle,': 2608, 'reserved': 2609, 'reserved,': 2610, 'leaving': 2611, 'directly.': 2612, 'directly,': 2613, 'estimate': 2614, '/text/schart/01/three_d_view.xhp': 2615, 'illumination;': 2616, 'ok,': 2617, 'permanently.': 2618, 'escape,': 2619, 'perspective,': 2620, 'illumination.': 2621, '90,': 2622, '0,': 2623, '-90,': 2624, 'rotations': 2625, 'y,': 2626, 'z.': 2627, 'rotated': 2628, 'relate': 2629, 'lens': 2630, 'projection.': 2631, 'far': 2632, 'looks': 2633, 'approximately': 2634, 'big': 2635, 'version.': 2636, 'newly': 2637, 'lens.': 2638, 'nearer': 2639, 'bigger': 2640, 'distant': 2641, 'scheme.': 2642, 'rendering': 2643, 'surface,': 2644, 'spot': 2645, 'possible.': 2646, 'smoother,': 2647, 'edges.': 2648, 'unmarked.': 2649, 'solid.': 2650, '5%.': 2651, 'directed': 2652, 'switched': 2653, 'seven': 2654, 'sources.': 2655, 'projects': 2656, 'source,': 2657, 'added,': 2658, 'dark': 2659, 'lights.': 2660, 'sliders': 2661, 'aims': 2662, 'middle': 2663, 'shines': 2664, 'light.': 2665, '/text/schart/01/05010100.xhp': 2666, '/text/schart/01/05020200.xhp': 2667, '/text/schart/01/05010200.xhp': 2668, '/text/schart/01/05050000.xhp': 2669, '/text/schart/01/04040000.xhp': 2670, 'x-axis;': 2671, 'y-': 2672, 'z-axes': 2673, 'enry': 2674, 'axes;showing...': 2675, '4.5': 2676, '/text/schart/01/04030000.xhp': 2677, 'labels;': 2678, 'strings': 2679, '/text/schart/01/05020000.xhp': 2680, 'titles;': 2681, '/text/schart/01/05030000.xhp': 2682, 'border,': 2683, '/text/schart/01/05080000.xhp': 2684, '/text/schart/01/05010000.xhp': 2685, 'objects;properties': 2686, 'properties;charts': 2687, 'properties;': 2688, 'appropriate': 2689, '/text/schart/01/type_stock.xhp': 2690, 'types;stock': 2691, 'sources;setting': 2692, 'illustrates': 2693, 'market': 2694, 'important.': 2695, 'c': 2696, 'd': 2697, 'f': 2698, '(bottom': 2699, '(top': 2700, 'monday': 2701, '2500': 2702, '25': 2703, 'tuesday': 2704, '3500': 2705, '22': 2706, '37': 2707, 'wednesday': 2708, '1000': 2709, 'thursday': 2710, '2200': 2711, '40': 2712, '47': 2713, '35': 2714, 'friday': 2715, '4600': 2716, '27': 2717, '31': 2718, 'high,': 2719, 'build': 2720, 'builds': 2721, 'variants.': 2722, '(low)': 2723, '(high)': 2724, 'traditional': 2725, 'front,': 2726, 'rising': 2727, '(the': 2728, 'falling': 2729, 'y\\xa0axis': 2730, 'introduced': 2731, '4.': 2732, 'omitting': 2733, 'got': 2734, 'fits': 2735, 'syntax': 2736, 'correct,': 2737, 'red.': 2738, 'minimised': 2739, 'semicolon.': 2740, 'belongs': 2741, 'prices.': 2742, 'component': 2743, 'i80596': 2744, 'roles': 2745, 'paras': 2746, '/text/schart/01/04010000.xhp': 2747, '/text/schart/01/05070000.xhp': 2748, '/text/schart/01/05040201.xhp': 2749, 'y-axis;scaling': 2750, 'axes;scaling': 2751, 'optimally': 2752, 'results,': 2753, 'shifting': 2754, 'upwards.': 2755, 'minimum,': 2756, 'maximum,': 2757, 'division': 2758, 'subdivision': 2759, 'permit': 2760, 'subdivided': 2761, 'logarithmically.': 2762, 'differ': 2763, 'sharply': 2764, 'equidistant': 2765, 'decrease.': 2766, 'means': 2767, 'cartesian': 2768, 'polar': 2769, 'outer.': 2770, '/text/schart/01/04070000.xhp': 2771, 'better': 2772, 'activated': 2773, 'unchecked.': 2774, 'grids.': 2775, '/text/schart/01/05050100.xhp': 2776, 'x-axis;grid': 2777, 'y-axis;grid': 2778, '/text/schart/01/05120000.xhp': 2779, 'unchanged.': 2780, 'calc.': 2781, 'brings': 2782, 'right).': 2783, 'sends': 2784, 'left).': 2785, '/text/schart/01/type_column_line.xhp': 2786, 'positioned': 2787, '/text/schart/01/wiz_chart_type.xhp': 2788, 'charts;choosing': 2789, 'optionally,': 2790, 'wizard,': 2791, 'shift+f1': 2792, 'extended': 2793, '63365': 2794, 'roadmap': 2795, '63293': 2796, '63294': 2797, '551781378': 2798, 'checkbox': 2799, '551783937': 2800, 'dropdown': 2801, '63325': 2802, 'listbox': 2803, '551781379': 2804, '551780866': 2805, '551780867': 2806, '551781380': 2807, '551784961': 2808, '551781381': 2809, '(scatter))': 2810, 'ascending': 2811, 'x-values,': 2812, 'different,': 2813, 'diagram.': 2814, '63323': 2815, '(column': 2816, '/text/schart/01/05060000.xhp': 2817, 'formatting;chart': 2818, '/text/schart/01/type_bubble.xhp': 2819, 'types;bubble': 2820, 'relations': 2821, 'variables.': 2822, 'y-axis,': 2823, 'bubble.': 2824, 'sizes.': 2825, '/text/schart/01/choose_chart_type.xhp': 2826, 'types,': 2827, '/text/schart/01/03010000.xhp': 2828, 'i81240': 2829, 'become': 2830, 'i72361': 2831, '/text/schart/01/05020201.xhp': 2832, 'name:': 2833, 'axestitle': 2834, 'orientation.': 2835, 'setting.': 2836, 'label,': 2837, 'angle.': 2838, 'lack': 2839, 'y-axes.': 2840, 'staggers': 2841, 'sub': 2842, 'later.': 2843, 'control.': 2844, '/text/schart/01/05040202.xhp': 2845, 'positioning;': 2846, 'charts;positioning': 2847, 'x-axis;positioning': 2848, 'y-axis;positioning': 2849, 'axes;interval': 2850, 'axis:': 2851, 'end,': 2852, 'labels:': 2853, '(other': 2854, 'side),': 2855, 'major:': 2856, 'both:': 2857, 'sides.': 2858, 'minor:': 2859, 'marking': 2860, 'dashes': 2861, 'marks.': 2862, 'inside.': 2863, 'marks:': 2864, '/text/schart/01/05040200.xhp': 2865, '/text/schart/01/05020100.xhp': 2866, 'bookmark': 2867, '0502020': 2868, '/text/schart/01/05040100.xhp': 2869, 'axes;formatting': 2870, '/text/schart/01/04020000.xhp': 2871, 'hiding;chart': 2872, 'legend:': 2873, '/text/schart/01/type_pie.xhp': 2874, 'types;pie/doughnut': 2875, 'circular': 2876, 'coloured': 2877, \"pie's\": 2878, 'inside,': 2879, 'doughnut.': 2880, '/text/schart/01/type_column_bar.xhp': 2881, 'compared': 2882, 'overall': 2883, 'regard': 2884, \"category's\": 2885, 'mimic': 2886, 'office': 2887, 'products.': 2888, 'cylinder,': 2889, 'cone,': 2890, 'pyramid.': 2891, '/text/schart/00/00000004.xhp': 2892, 'point/data': 2893, 'x-axis/secondary': 2894, 'x-axis/z-axis/all': 2895, 'y-axis/secondary': 2896, 'grid/x-,': 2897, 'grid/all': 2898, 'frtaft': 2899, 'autoformat': 2900, 'descriptions': 2901, '/text/schart/04/01020000.xhp': 2902, '/text/schart/02/01190000.xhp': 2903, '/text/schart/02/01210000.xhp': 2904, '/text/schart/02/01220000.xhp': 2905, '#110306#': 2906, '/text/schart/02/02020000.xhp': 2907, '/text/schart/02/01200000.xhp': 2908, '/text/schart/main0503.xhp': 2909, 'easy': 2910, 'visualise.': 2911, 'stays': 2912, 'right-clicking': 2913, '/text/simpress/main0211.xhp': 2914, '/text/simpress/main0101.xhp': 2915, '/text/simpress/main0105.xhp': 2916, '/text/simpress/main0214.xhp': 2917, 'contrast,': 2918, '/text/simpress/main0000.xhp': 2919, 'fpe.': 2920, '/text/simpress/main0206.xhp': 2921, '/text/simpress/main0202.xhp': 2922, 'shadow': 2923, '/text/simpress/main0107.xhp': 2924, '/text/simpress/main0103.xhp': 2925, 'masterlayouts': 2926, '/text/simpress/main0213.xhp': 2927, 'links,': 2928, '#i52549': 2929, 'icons,': 2930, 'i81634': 2931, '/text/simpress/main0212.xhp': 2932, '/text/simpress/guide/masterpage.xhp': 2933, 'designing': 2934, 'exactly': 2935, '/text/simpress/guide/layer_tipps.xhp': 2936, 'layers;working': 2937, 'hiding;layers': 2938, 'selecting;layers': 2939, 'blue.': 2940, '/text/simpress/guide/layer_new.xhp': 2941, 'changing;layer': 2942, '/text/simpress/guide/animated_slidechange.xhp': 2943, 'effects;animated': 2944, 'magnification': 2945, '/text/simpress/guide/show.xhp': 2946, 'showing;slide': 2947, 'transitions;automatic': 2948, 'simpress/01/03130000.xhp,': 2949, 'shows;showing': 2950, 'running;...': 2951, 'automatic...': 2952, 'simpress/01/06040000.xhp.': 2953, 'i68756': 2954, 'running,': 2955, 'abort': 2956, '(kiosk': 2957, 'mode)': 2958, 'duration.': 2959, 'shown,': 2960, 'shows.': 2961, 'pause,': 2962, 'filename.': 2963, 'prompt,': 2964, 'command:': 2965, 'soffice': 2966, 'located': 2967, '/text/simpress/guide/line_edit.xhp': 2968, 'splitting;curves': 2969, 'closing;shapes': 2970, 'deleting;points': 2971, 'converting;points': 2972, 'points;adding/converting/deleting': 2973, '(endpoints)': 2974, '(handles).': 2975, 'squares': 2976, 'segment:': 2977, 'overlies': 2978, 'pulls': 2979, 'symmetric': 2980, 'distance.': 2981, 'delete.': 2982, '/text/simpress/guide/printing.xhp': 2983, 'outlines;': 2984, 'tiled': 2985, 'changing;layout': 2986, 'layout;printing': 2987, 'handouts;..': 2988, 'layout;...': 2989, 'job': 2990, 'nine': 2991, 'updated,': 2992, 'shift,': 2993, '/text/simpress/guide/background.xhp': 2994, 'slides;changing': 2995, 'fill,': 2996, 'hatching,': 2997, '#63970': 2998, 'pattern': 2999, 'produce': 3000, 'patterned': 3001, 'offset': 3002, 'modification': 3003, '/text/simpress/guide/rehearse_timings.xhp': 3004, 'presentations;rehearse': 3005, 'timings;': 3006, 'changes;rehearse': 3007, 'recording;display': 3008, 'assists': 3009, 'prepare': 3010, 'records': 3011, 'changes,': 3012, 'recorded.': 3013, \"it's\": 3014, 'recorded': 3015, '/text/simpress/guide/orgchart.xhp': 3016, 'organisation': 3017, 'orgcharts': 3018, '(google': 3019, 'organization': 3020, '(about': 3021, '33': 3022, 'flowchart:': 3023, 'sites': 3024, 'site,': 3025, 'site': 3026, 'connectors,': 3027, 'flowchart.': 3028, 'call': 3029, 'slides:': 3030, 'interactions': 3031, '/text/simpress/guide/move_object.xhp': 3032, '#i30469#': 3033, 'objects;moving': 3034, 'moving;objects': 3035, 'them,': 3036, 'keys,': 3037, '/text/simpress/guide/change_scale.xhp': 3038, 'zooming;keyboard': 3039, 'in,': 3040, 'out,': 3041, 'minus': 3042, 'wheel,': 3043, 'modules': 3044, '/text/simpress/guide/animated_gif_save.xhp': 3045, 'exporting;': 3046, 'interchange': 3047, '(.gif)': 3048, '/text/simpress/guide/layer_move.xhp': 3049, 'flash.': 3050, '/text/simpress/guide/footer.xhp': 3051, 'footers;slide': 3052, 'inserting;headers/footers': 3053, 'notes,': 3054, 'i53011': 3055, 'formats.': 3056, 'top.': 3057, 'unmarked,': 3058, 'areas,': 3059, 'unmarking': 3060, '/text/simpress/guide/html_import.xhp': 3061, 'importing;': 3062, 'simpress/01/04110200.xhp': 3063, '+x.': 3064, '+v.': 3065, '/text/simpress/guide/select_object.xhp': 3066, 'selecting;': 3067, '+shift': 3068, '/text/simpress/guide/gluepoints.xhp': 3069, 'points;using': 3070, 'attach': 3071, 'filled,': 3072, 'unfilled,': 3073, 'permitted': 3074, 'greyed': 3075, 'decide': 3076, '/text/simpress/guide/text2curve.xhp': 3077, 'objects;converting': 3078, 'curves;converting': 3079, '/text/simpress/guide/layers.xhp': 3080, 'assemble': 3081, 'related.': 3082, 'think': 3083, 'workspaces': 3084, 'lock.': 3085, 'transparent.': 3086, 'layers:': 3087, 'action,': 3088, \"layer's\": 3089, 'printable.': 3090, 'hide,': 3091, '/text/simpress/guide/table_insert.xhp': 3092, 'spreadsheets;in': 3093, 'presentations;inserting': 3094, 'methods': 3095, 'fancy': 3096, 'latest': 3097, 'contextmenu': 3098, 'merged': 3099, 'vertically': 3100, 'sic': 3101, \"cell's\": 3102, 'spacing.': 3103, 'equally,': 3104, 'back,': 3105, 'ole-': 3106, 'can,': 3107, 'displayed,': 3108, '/text/simpress/guide/main.xhp': 3109, '/text/simpress/guide/line_draw.xhp': 3110, 'drawing;lines': 3111, 'squares.': 3112, 'little': 3113, 'bit': 3114, 'joined': 3115, 'segments:': 3116, 'symmetrical': 3117, 'side,': 3118, 'curvatures': 3119, 'independent': 3120, 'go.': 3121, 'restrict': 3122, 'be.': 3123, 'pointer.': 3124, 'pencil.': 3125, '/text/simpress/guide/palette_files.xhp': 3126, 'colours;loading': 3127, 'gradients;loading': 3128, 'hatching;loading': 3129, 'loading;colours/gradients/hatchings': 3130, 'gradients,': 3131, 'patterns.': 3132, '[filename].soc.': 3133, 'cmyk': 3134, 'whereas': 3135, '256': 3136, 'colours.': 3137, '[filename].sog.': 3138, '[filename].soh.': 3139, '/text/simpress/guide/print_tofit.xhp': 3140, 'print,': 3141, 'maintaining': 3142, '/text/simpress/guide/line_arrow_styles.xhp': 3143, 'styles;loading': 3144, 'lines;about': 3145, 'arrows;loading': 3146, 'styles;arrow': 3147, 'loading;arrow': 3148, 'ends;': 3149, '[filename].sod.': 3150, '[filename].soe.': 3151, '/text/simpress/guide/individual.xhp': 3152, 'hiding;slides': 3153, 'pages;showing': 3154, 'f5,': 3155, 'hide.': 3156, '/text/simpress/guide/animated_gif_create.xhp': 3157, 'rework': 3158, '(see': 3159, 'para': 3160, 'comments)': 3161, 'cross-fades': 3162, 'images;': 3163, '(images)': 3164, 'interesting.': 3165, '(frames)': 3166, 'assembling': 3167, 'achieved': 3168, 'static': 3169, '(animated': 3170, 'gif),': 3171, 'gif:': 3172, 'timeline': 3173, 'presented': 3174, '(looping).': 3175, '(left': 3176, '(middle': 3177, '(right': 3178, '/text/simpress/guide/animated_objects.xhp': 3179, 'connecting;': 3180, 'paths;': 3181, 'deleting;animation': 3182, 'effects;applying': 3183, 'to/removing': 3184, 'preset': 3185, 'effect,': 3186, 'effect:': 3187, 'paths.': 3188, 'cancelled,': 3189, 'therefore': 3190, 'easily.': 3191, '/text/simpress/guide/html_export.xhp': 3192, 'exporting;presentations': 3193, 'saving;as': 3194, 'impress)': 3195, '(.html;.htm)': 3196, '/text/simpress/guide/arrange_slides.xhp': 3197, 'slightly': 3198, 'changing;order': 3199, 'arranging;slides': 3200, 'ordering;slides': 3201, 'crossed': 3202, '/text/simpress/guide/vectorize.xhp': 3203, 'vectorising': 3204, 'graphics;converting': 3205, 'losing': 3206, 'quality': 3207, 'convert.': 3208, '/text/simpress/guide/page_copy.xhp': 3209, 'pasting;slides': 3210, 'pasting;': 3211, 'presentation:': 3212, 'presentations:': 3213, 'between.': 3214, '/text/simpress/guide/keyboard.xhp': 3215, 'useless': 3216, 'comments.': 3217, 'h1': 3218, 'accessibility;': 3219, 'autolayouts': 3220, 'ctrl+f2': 3221, '+pagedown': 3222, '+pageup': 3223, 'f6': 3224, 'deselecting': 3225, 'deselect': 3226, 'ctrl+c': 3227, 'ctrl+x': 3228, '/text/simpress/guide/3d_create.xhp': 3229, 'screenshots': 3230, '(2-d)': 3231, 'polygon:': 3232, '/text/simpress/main0104.xhp': 3233, 'comment': 3234, '/text/simpress/01/03151000.xhp': 3235, 'footers;master': 3236, '/text/simpress/01/01180001.xhp': 3237, 'vertical.': 3238, 'printer.': 3239, 'numbering.': 3240, '/text/simpress/01/03120000.xhp': 3241, '/text/simpress/01/05110500m.xhp': 3242, 'row(s)': 3243, '/text/simpress/01/05250000.xhp': 3244, '/text/simpress/01/03060000.xhp': 3245, '/text/simpress/01/03151100.xhp': 3246, '/text/simpress/01/04040000m.xhp': 3247, '/text/simpress/01/13180100.xhp': 3248, '/text/simpress/01/04990700.xhp': 3249, '/text/simpress/01/04990600.xhp': 3250, 'forename': 3251, 'surname': 3252, '/text/simpress/01/03180000.xhp': 3253, 'doc': 3254, 'qualities': 3255, 'shades': 3256, 'pure': 3257, 'shading.': 3258, '/text/simpress/01/04990200.xhp': 3259, '/text/simpress/01/03070000.xhp': 3260, '/text/simpress/01/04110000.xhp': 3261, 'files;': 3262, 'files,': 3263, 'internet': 3264, 'connection,': 3265, '/text/simpress/01/06060000.xhp': 3266, 'renewed': 3267, 'presentationengine.sxw': 3268, 'ordering': 3269, 'lists;animations': 3270, 'animations;list': 3271, 'right:': 3272, 'signals': 3273, 'animated.': 3274, 'execution': 3275, 'started': 3276, 'mouse-click,': 3277, 'clock': 3278, 'four,': 3279, 'fifth': 3280, '/text/simpress/01/05120500m.xhp': 3281, 'column(s)': 3282, '/text/simpress/01/13050000.xhp': 3283, '/text/simpress/01/03050000.xhp': 3284, '/text/simpress/01/13050600.xhp': 3285, '(wmf)': 3286, 'metafiles;': 3287, '(wmf),': 3288, '/text/simpress/01/04120000.xhp': 3289, '/text/simpress/01/03151200.xhp': 3290, '/text/simpress/01/04110100.xhp': 3291, '(or': 3292, 'elements)': 3293, 'modified.': 3294, '/text/simpress/01/06040000.xhp': 3295, 'show.xhp.': 3296, 'repeatedly': 3297, 'seconds.': 3298, 'numerical': 3299, '/text/simpress/01/13050500.xhp': 3300, 'pixels': 3301, 'image).': 3302, '/text/simpress/01/02160000.xhp': 3303, 'edits': 3304, '/text/simpress/01/03150300.xhp': 3305, 'notes;default': 3306, 'backgrounds;notes': 3307, 'notes;defaults': 3308, 'notes.': 3309, '/text/simpress/01/03150100.xhp': 3310, 'view;': 3311, 'views;slide': 3312, '/text/simpress/01/04110200.xhp': 3313, 'html_import.xhp': 3314, 'ascii,': 3315, 'rtf,': 3316, 'extends': 3317, 'downwards': 3318, 'passages.': 3319, '/text/simpress/01/06080000.xhp': 3320, 'from:': 3321, 'zero,': 3322, 'exchanged.': 3323, 'anything': 3324, 'allowed': 3325, 'http://qa.openoffice.org/issues/show_bug.cgi?id=12719': 3326, 'multi': 3327, 'system,': 3328, 'monitor.': 3329, 'monitors,': 3330, 'monitors.': 3331, 'configuration': 3332, '/text/simpress/01/13180000.xhp': 3333, '/text/simpress/01/05250600.xhp': 3334, 'affects': 3335, '/text/simpress/01/06030000.xhp': 3336, '/text/simpress/01/04990300.xhp': 3337, 'times;': 3338, '/text/simpress/01/05090000m.xhp': 3339, 'fonts,': 3340, 'effects,': 3341, '/text/simpress/01/13150000.xhp': 3342, 'combining;': 3343, 'undoing': 3344, 'splitting;': 3345, 'combinations': 3346, 'resulting': 3347, '/text/simpress/01/02150000.xhp': 3348, '#i30766#': 3349, 'cross-fading.': 3350, 'cross-fade': 3351, '/text/simpress/01/13160000.xhp': 3352, 'connecting': 3353, 'lose': 3354, '/text/simpress/01/05250700.xhp': 3355, 'reverses': 3356, '/text/simpress/01/03100000.xhp': 3357, 'miniature': 3358, '/text/simpress/01/effectoptions.xhp': 3359, '/text/simpress/01/04030000.xhp': 3360, 'points;inserting': 3361, 'magnetic': 3362, '(also': 3363, 'guide)': 3364, '(dashed': 3365, 'cross).': 3366, '/text/simpress/01/animationeffect.xhp': 3367, 'exiting': 3368, '/text/simpress/01/06050000.xhp': 3369, 'indicates': 3370, 'arrows.': 3371, 'continuously,': 3372, 'max': 3373, 'assembles': 3374, 'still': 3375, 'aligns': 3376, '/text/simpress/01/04010000.xhp': 3377, '/text/simpress/01/01170000.xhp': 3378, 'exporting;to': 3379, 'exports': 3380, 'svm/wmf/pict/met': 3381, 'bmp': 3382, 'eps': 3383, 'png': 3384, 'pbm,': 3385, 'ppm,': 3386, 'pgm': 3387, '(swf)': 3388, 'appears.': 3389, 'process': 3390, 'jpg': 3391, 'filters': 3392, '/text/simpress/01/13170000.xhp': 3393, '/text/simpress/01/03150000.xhp': 3394, 'views,': 3395, '03151000': 3396, 'reinserted,': 3397, 'i59749': 3398, '/text/simpress/01/06070000.xhp': 3399, 'interactive': 3400, 'programs': 3401, 'macros/programs': 3402, 'macros;': 3403, 'presentations;exiting': 3404, 'exiting;by': 3405, 'actions': 3406, 'occurs.': 3407, 'target.': 3408, 'play.': 3409, 'program.': 3410, 'run.': 3411, '/text/simpress/01/04030000m.xhp': 3412, 'downwards.': 3413, '/text/simpress/01/04080100.xhp': 3414, '/text/simpress/01/13050300.xhp': 3415, '(3-d)': 3416, 'contour,': 3417, 'ctrl+f3': 3418, 'converted.': 3419, '/text/simpress/01/06100000.xhp': 3420, 'pick': 3421, 'presentation(s)': 3422, '/text/simpress/01/05120000.xhp': 3423, 'unreferenced': 3424, 'designs.': 3425, '/text/simpress/01/13180200.xhp': 3426, 'subtracts': 3427, '/text/simpress/01/04990000.xhp': 3428, 'fields;in': 3429, '/text/simpress/01/05120100.xhp': 3430, 'category,': 3431, 'page?': 3432, 'blank.you': 3433, 'subject.': 3434, 'searching.': 3435, 'brief': 3436, '/text/simpress/01/03152000.xhp': 3437, 'slides;page': 3438, 'slides;headers': 3439, '/text/simpress/01/06100100.xhp': 3440, '/text/simpress/01/04030100.xhp': 3441, 'points;': 3442, 'line/point': 3443, '/text/simpress/01/05130000.xhp': 3444, 'changing;': 3445, 'autolayout': 3446, 'modifying;..': 3447, '/text/simpress/01/04990100.xhp': 3448, '/text/simpress/01/13050700.xhp': 3449, 'contours;': 3450, 'polygons.': 3451, 'object),': 3452, '/text/simpress/01/05170000.xhp': 3453, 'connectors:': 3454, 'standard,': 3455, 'straight,': 3456, '1.': 3457, '2.': 3458, 'connectors.': 3459, '/text/simpress/01/04990400.xhp': 3460, 'times;variable': 3461, 'fields;times': 3462, '/text/simpress/01/13050200.xhp': 3463, 'lines).': 3464, 'actually': 3465, 'collection': 3466, 'colours:': 3467, 'occurrence': 3468, 'reduction': 3469, 'pixel': 3470, 'gaps': 3471, 'caused': 3472, 'reduction.': 3473, 'picture:': 3474, 'image:': 3475, 'progress': 3476, 'progress.': 3477, '/text/simpress/01/05250500.xhp': 3478, '/text/simpress/01/03090000.xhp': 3479, 'editing;slide': 3480, 'headings.': 3481, 'titles:': 3482, '/text/simpress/01/03080000.xhp': 3483, 'view;presentations': 3484, 'i83563': 3485, 'slide/page': 3486, '/text/simpress/01/13050400.xhp': 3487, '/text/simpress/01/13140000.xhp': 3488, 'grouping': 3489, 'lost.': 3490, 'overlap.': 3491, '/text/simpress/01/02140000.xhp': 3492, '/text/simpress/01/13180300.xhp': 3493, '/text/simpress/01/02120000.xhp': 3494, 'make.': 3495, 'degrees)': 3496, 'enlargement': 3497, '/text/simpress/01/04990500.xhp': 3498, '/text/simpress/01/03130000.xhp': 3499, 'show.xhp': 3500, '/text/simpress/01/02130000.xhp': 3501, 'slides;deleting': 3502, 'others:': 3503, '/text/simpress/01/04130000.xhp': 3504, 'expanding;slides': 3505, 'slides;expanding': 3506, 'top-level': 3507, '(text': 3508, 'hierarchy)': 3509, '/text/simpress/01/04020000.xhp': 3510, 'ignore': 3511, '/text/simpress/01/01180000.xhp': 3512, '/text/simpress/01/01180002.xhp': 3513, '/text/simpress/01/04140000.xhp': 3514, '/text/simpress/01/taskpanel.xhp': 3515, 'layouts,': 3516, 'transitions.': 3517, '(background)': 3518, '(left-click)': 3519, '(right-click).': 3520, 'left-click': 3521, 'design.': 3522, '/text/simpress/01/02110000.xhp': 3523, 'dock': 3524, 'ctrl+shift+f5': 3525, 'pen.': 3526, 'copies.': 3527, '/text/simpress/01/03110000.xhp': 3528, 'slides;inserting': 3529, 'notes;inserting': 3530, '/text/simpress/01/05100000.xhp': 3531, 'mode;': 3532, 'autolayouts.': 3533, 'edit,': 3534, '/text/simpress/01/13050100.xhp': 3535, 'page/slide': 3536, '/text/simpress/01/slidesorter.xhp': 3537, 'rename,': 3538, 'delete,': 3539, 'draw.': 3540, '/text/simpress/01/05140000.xhp': 3541, 'locks': 3542, 'renames': 3543, '/text/simpress/01/effectoptionseffect.xhp': 3544, 'accelerated': 3545, 'decelerated': 3546, 'stopped': 3547, 'ends,': 3548, 'once.': 3549, 'letter.': 3550, '/text/simpress/01/effectoptionstiming.xhp': 3551, 'repeats,': 3552, '(none)': 3553, 'repeats': 3554, 'rewind': 3555, 'clicked.': 3556, '/text/simpress/01/effectoptionstext.xhp': 3557, 'options,': 3558, 'once,': 3559, 'sub-level': 3560, '/text/simpress/01/05150000.xhp': 3561, 'overhang': 3562, 'meas.': 3563, '/text/simpress/main0106.xhp': 3564, 'tools,': 3565, 'art': 3566, 'configuring': 3567, 'preferences.': 3568, '/text/simpress/main0203.xhp': 3569, '/text/simpress/main0210.xhp': 3570, 'tools.': 3571, '(white': 3572, 'arrow)': 3573, 'stacking,': 3574, 'escape.': 3575, '/text/simpress/00/00000004.xhp': 3576, '#i63795': 3577, '/text/simpress/00/00000402.xhp': 3578, '(impress)/': 3579, '(draw)': 3580, '/text/simpress/00/00000404.xhp': 3581, '/text/simpress/00/00000406.xhp': 3582, '/text/simpress/00/00000405.xhp': 3583, 'only),': 3584, 'draw)': 3585, '/text/simpress/00/00000413.xhp': 3586, '/text/simpress/00/00000407.xhp': 3587, '/text/simpress/00/00000403.xhp': 3588, '/text/simpress/00/00000401.xhp': 3589, '/text/simpress/main0200.xhp': 3590, '/text/simpress/main0204.xhp': 3591, '/text/simpress/04/01020000.xhp': 3592, 'f4': 3593, '+shift+f5': 3594, 'f7': 3595, '+f7': 3596, '+shift+f8': 3597, 'f11': 3598, 'any,': 3599, 'slide).': 3600, '[number]': 3601, 'p': 3602, 'exists': 3603, 'w': 3604, 'plus(+)': 3605, 'minus(-)': 3606, 'times(×)': 3607, 'divide(÷)': 3608, '+g': 3609, 'group,': 3610, 'front.': 3611, 'forwards.': 3612, 'backwards.': 3613, '+arrow': 3614, 'constrains': 3615, 'movement': 3616, '(with': 3617, 'active)': 3618, 'outward.': 3619, 'key+click': 3620, '+shift+click': 3621, 'shift+click': 3622, 'passage.': 3623, 'shift+drag': 3624, '(when': 3625, 'resizing)': 3626, 'proportions': 3627, 'selected).': 3628, '+enter': 3629, 'reached': 3630, 'pageup': 3631, 'pagedown': 3632, '/text/simpress/02/13020000.xhp': 3633, '/text/simpress/02/13040000.xhp': 3634, '/text/simpress/02/11110000.xhp': 3635, '/text/simpress/02/13050000.xhp': 3636, '(guides)': 3637, '/text/simpress/02/10050000.xhp': 3638, 'callouts;': 3639, 'callout.': 3640, 'largest': 3641, 'hand.': 3642, '(enable': 3643, 'asian': 3644, 'icon).': 3645, '/text/simpress/02/10100000.xhp': 3646, 'joins': 3647, 'moved.': 3648, 'copied.': 3649, 'lines:': 3650, '(90-degree': 3651, '(two': 3652, 'unattached': 3653, 'detach': 3654, 'bends.': 3655, '/text/simpress/02/13070000.xhp': 3656, '/text/simpress/02/04060000.xhp': 3657, '/text/simpress/02/08020000.xhp': 3658, 'y-positions': 3659, '/text/simpress/02/11100000.xhp': 3660, '/text/simpress/02/10130000.xhp': 3661, '/text/simpress/02/13060000.xhp': 3662, '/text/simpress/02/13180000.xhp': 3663, '/text/simpress/02/10030000.xhp': 3664, 'flipping': 3665, 'mirroring': 3666, 'slanting': 3667, 'distorting': 3668, 'shearing': 3669, 'transparency;': 3670, 'interactively': 3671, 'circles;': 3672, 'slanting;...': 3673, 'skews': 3674, 'rotated.': 3675, 'y-axes': 3676, 'flips': 3677, 'perspective.': 3678, '0%': 3679, 'transparency.': 3680, 'endpoints.': 3681, '/text/simpress/02/13150000.xhp': 3682, '/text/simpress/02/04040000.xhp': 3683, '/text/simpress/02/13160000.xhp': 3684, '/text/simpress/02/04030000.xhp': 3685, '/text/simpress/02/10080000.xhp': 3686, 'toolbars;curves': 3687, 'polygons;': 3688, 'drawing;': 3689, 'yet,': 3690, 'subtracted': 3691, 'thus': 3692, 'appearing': 3693, 'one.': 3694, 'style/filling': 3695, 'drag,': 3696, 'degree,': 3697, 'angle,': 3698, 'double-click.': 3699, '/text/simpress/02/13030000.xhp': 3700, '/text/simpress/02/04010000.xhp': 3701, '/text/simpress/02/13170000.xhp': 3702, '/text/simpress/02/13190000.xhp': 3703, '/text/simpress/02/13100000.xhp': 3704, 'exits': 3705, '/text/simpress/02/04070000.xhp': 3706, '/text/simpress/02/13010000.xhp': 3707, '/text/simpress/02/10120000.xhp': 3708, 'lines;inserting': 3709, 'arrows;': 3710, 'arrows,': 3711, 'dimensions.': 3712, '/text/simpress/02/13140000.xhp': 3713, '/text/simpress/02/13090000.xhp': 3714, 'transparency,': 3715, '/text/simpress/02/10060000.xhp': 3716, '#i30767#': 3717, 'forms;': 3718, 'geometric': 3719, 'forms': 3720, 'inserting;...': 3721, 'rectangles;...': 3722, '/text/simpress/02/10090000.xhp': 3723, 'toolbars;3-d': 3724, 'inserting;3-d': 3725, 'cubes': 3726, 'spheres': 3727, 'cylinders': 3728, 'cones': 3729, 'pyramids': 3730, 'shells': 3731, 'hemispheres': 3732, 'drawing;3-d': 3733, 'geometry': 3734, 'tick).': 3735, 'ring-shaped': 3736, 'bowl-shaped': 3737, '/text/simpress/02/10070000.xhp': 3738, 'toolbars;ellipses': 3739, 'ellipses;': 3740, '/text/simpress/02/10110000.xhp': 3741, 'video': 3742, 'plug-in': 3743, '/text/simpress/02/11090000.xhp': 3744, '/text/simpress/02/04020000.xhp': 3745, 'sorter.': 3746, '/text/simpress/02/08060000.xhp': 3747, '/text/simpress/02/11070000.xhp': 3748, '/text/simpress/02/11080000.xhp': 3749, '/text/simpress/02/13080000.xhp': 3750, '/text/simpress/02/11060000.xhp': 3751, '/text/simpress/02/10030200.xhp': 3752, 'bars;': 3753, 'bounding': 3754, 'maintains': 3755, '/text/simpress/02/10020000.xhp': 3756, 'zooming;': 3757, 'hand': 3758, 'view)': 3759, 'enlarge.': 3760, '+comma(,).': 3761, '+dot(.).': 3762, 'screen.': 3763, '/text/simpress/main0114.xhp': 3764, '/text/simpress/main0503.xhp': 3765, 'professional': 3766, 'microsoft': 3767, 'powerpoint': 3768, 'shows,': 3769, 'animation,': 3770, 'techniques': 3771, 'exciting.': 3772, 'professional-looking': 3773, 'dynamic': 3774, 'thumbnail': 3775, 'form,': 3776, 'publish': 3777, 'on-screen,': 3778, 'handouts,': 3779, 'giving': 3780, 'choice': 3781, '/text/simpress/main0102.xhp': 3782, 'imagemap': 3783, '/text/simpress/main0113.xhp': 3784, 'distribution': 3785, '/text/simpress/main0100.xhp': 3786, '/text/simpress/main0209.xhp': 3787, 'rulers;': 3788, 'workspace': 3789, 'cover': 3790, 'marker': 3791, 'intersection': 3792, 'be,': 3793, 'origins': 3794, 'intersection.': 3795, '/text/swriter/main0216.xhp': 3796, '/text/swriter/main0101.xhp': 3797, '/text/swriter/main0105.xhp': 3798, '/text/swriter/main0215.xhp': 3799, '/text/swriter/main0214.xhp': 3800, '/text/swriter/main0000.xhp': 3801, 'getting': 3802, '/text/swriter/main0220.xhp': 3803, 'spacing,': 3804, '/text/swriter/main0206.xhp': 3805, '/text/swriter/main0202.xhp': 3806, 'functions.': 3807, '/text/swriter/main0107.xhp': 3808, '/text/swriter/main0103.xhp': 3809, '/text/swriter/main0213.xhp': 3810, 'tabs,': 3811, '/text/swriter/guide/insert_graphic_scan.xhp': 3812, 'inserting;scanned': 3813, 'drivers': 3814, 'installed.': 3815, 'twain': 3816, 'sane': 3817, 'scan': 3818, 'instructions.': 3819, '/text/swriter/guide/insert_graphic_dialog.xhp': 3820, 'clicked': 3821, '/text/swriter/guide/change_header.xhp': 3822, '2-6': 3823, '/text/swriter/guide/indices_userdef.xhp': 3824, 'word(s)': 3825, '/text/swriter/guide/delete_from_dict.xhp': 3826, 'deleting;words': 3827, '/text/swriter/guide/indenting.xhp': 3828, 'indents;in': 3829, 'hanging': 3830, 'ruler.xhp': 3831, 'i66307': 3832, 'margin,': 3833, '/text/swriter/guide/print_small.xhp': 3834, 'pages;printing': 3835, 'overviews;printing': 3836, 'printing;multiple': 3837, 'overviews;': 3838, '/text/swriter/guide/calculate_intable.xhp': 3839, 'calculating;sums': 3840, 'similarly,': 3841, '/text/swriter/guide/word_completion.xhp': 3842, 'completion;using/disabling': 3843, 'disabling;word': 3844, 'off;word': 3845, 'deactivating;word': 3846, 'refusing': 3847, 'rejecting': 3848, 'off...': 3849, 'word_completion_adjust.xhp': 3850, 'session.': 3851, '+tab': 3852, '+shift+tab.': 3853, 'accept/reject': 3854, 'reject': 3855, 'completion,': 3856, '/text/swriter/guide/resize_navigator.xhp': 3857, 'navigator;docking': 3858, 'window;docking': 3859, 'gallery;docking': 3860, 'docking;': 3861, 'resizing;windows': 3862, 'dock,': 3863, 'ctrl+shift+f10': 3864, '/text/swriter/guide/references_modify.xhp': 3865, 'editing;cross-references': 3866, 'searching;cross-references': 3867, 'ctrl+f8': 3868, '/text/swriter/guide/table_select.xhp': 3869, 'selexting': 3870, 'sw-features': 3871, 'selecting;tables': 3872, 'tables;selecting': 3873, 'columns;selecting': 3874, 'rows;selecting': 3875, 'diagonal': 3876, '/text/swriter/guide/smarttags.xhp': 3877, 'options;smart': 3878, 'disabling;smart': 3879, 'installing;smart': 3880, 'shared/01/06040700.xhp,': 3881, 'inverted': 3882, 'tags;options': 3883, 'tags;': 3884, 'provide': 3885, 'functionality': 3886, 'extensions.': 3887, 'installing': 3888, 'install': 3889, 'manager': 3890, 'manager,': 3891, '*.oxt': 3892, 'requires': 3893, 'properly': 3894, 'configured': 3895, 'informs': 3896, 'ctrl-click': 3897, 'shift+f10.': 3898, 'tags.': 3899, 'spell-check.': 3900, '/text/swriter/guide/dragdroptext.xhp': 3901, 'pasting;cut/copied': 3902, 'mouse;moving': 3903, '/text/swriter/guide/text_rotate.xhp': 3904, 'rotating;text': 3905, 'toolbars-': 3906, '/text/swriter/guide/fields_enter.xhp': 3907, 'inserting;input': 3908, 'ctrl+shift+f9.': 3909, '/text/swriter/guide/text_frame.xhp': 3910, 'inserting/editing/linking': 3911, 'editing;text': 3912, 'resizing;text': 3913, 'links;text': 3914, 'flow;': 3915, 'printing;hiding': 3916, 'container': 3917, 'proportion': 3918, 'printing.': 3919, 'handles).': 3920, 'if:': 3921, 'autosize': 3922, 'chain': 3923, 'par_id3147542': 3924, '72': 3925, 'obviously': 3926, '/text/swriter/guide/subscript.xhp': 3927, 'characters;subscript': 3928, 'subscript.': 3929, '/text/swriter/guide/indices_form.xhp': 3930, 'formatting;indexes': 3931, 'e#': 3932, '/text/swriter/guide/fields_date.xhp': 3933, 'inserting;date': 3934, 'dates;inserting': 3935, 'fields;fixed/variable': 3936, '/text/swriter/guide/insert_beforetable.xhp': 3937, 'tables;start/end': 3938, 'paragraphs;inserting': 3939, 'inserting;paragraphs': 3940, '/text/swriter/guide/using_numbering.xhp': 3941, 'manually/by': 3942, 'styles;numbering': 3943, 'combo': 3944, '/text/swriter/guide/using_numbered_lists2.xhp': 3945, 'numbering;paragraphs,': 3946, 'formatting;numbered': 3947, 'inserting;numbering': 3948, '/text/swriter/guide/insert_graphic_fromdraw.xhp': 3949, 'moment.': 3950, 'i': 3951, 'verify:': 3952, 'par_id3152755': 3953, '/text/swriter/guide/registertrue.xhp': 3954, 'text;register-true': 3955, 'pages;register-true': 3956, 'paragraphs;register-true': 3957, 'register-true;pages': 3958, 'spacing;register-true': 3959, 'formatting;register-true': 3960, 'register-true,': 3961, 'specified.': 3962, 'exempt': 3963, '/text/swriter/guide/navigator.xhp': 3964, 'hyperlinks;jumping': 3965, 'objects;quickly': 3966, 'frames;jumping': 3967, 'tables;jumping': 3968, 'headings;jumping': 3969, 'pages;jumping': 3970, 'jumping;to': 3971, 'overviews;navigator': 3972, 'hyperlinks.': 3973, '/text/swriter/guide/insert_graphic_fromchart.xhp': 3974, 'charts;copying': 3975, '/text/swriter/guide/table_delete.xhp': 3976, '/text/swriter/guide/indices_multidoc.xhp': 3977, 'indexes;multiple': 3978, 'merging;indexes': 3979, 'documents:': 3980, '),': 3981, '/text/swriter/guide/background.xhp': 3982, 'backgrounds;text': 3983, 'words;backgrounds': 3984, 'parts.': 3985, 'watermarks': 3986, '/text/swriter/guide/chapter_numbering.xhp': 3987, 'outlines;numbering': 3988, 'deleting;heading': 3989, 'numbering/paragraph': 3990, 'numbering;headings': 3991, 'bookmarks': 3992, 'rearrange': 3993, '/text/swriter/guide/anchor_object.xhp': 3994, 'objects;anchoring': 3995, 'positioning;objects': 3996, 'anchors;options': 3997, 'frames;anchoring': 3998, 'pictures;anchoring': 3999, 'centring;images': 4000, 'graphic,': 4001, 'size,': 4002, 'increased.': 4003, 'surrounding': 4004, '/text/swriter/guide/calculate_clipboard.xhp': 4005, 'pasting;results': 4006, 'clipboard;calculating': 4007, 'formulae;pasting': 4008, '/text/swriter/guide/even_odd_sdw.xhp': 4009, 'pages;formatting': 4010, 'pages;...': 4011, 'pages;..': 4012, 'workplace.': 4013, 'printout': 4014, 'pdf.': 4015, '/text/swriter/guide/insert_graphic_gallery.xhp': 4016, 'replacing;objects': 4017, 'shift+ctrl,': 4018, '/text/swriter/guide/send2html.xhp': 4019, 'homepage': 4020, 'creation': 4021, 'saving;in': 4022, 'associate': 4023, 'prefix': 4024, 'referenced': 4025, 'img': 4026, 'code.': 4027, '/text/swriter/guide/nonprintable_text.xhp': 4028, 'non-printable': 4029, '/text/swriter/guide/reset_format.xhp': 4030, 'fonts;': 4031, 'resetting;': 4032, 'fonts': 4033, 'exiting;direct': 4034, 'right-arrow': 4035, 'ctrl+b': 4036, 'typeface': 4037, '/text/swriter/guide/page_break.xhp': 4038, 'breaks;': 4039, 'deleting;page': 4040, 'tables;deleting': 4041, 'begin.': 4042, 'ctrl+enter.': 4043, '/text/swriter/guide/footer_nextpage.xhp': 4044, 'exists.': 4045, \"'next\": 4046, \"page'\": 4047, '/text/swriter/guide/section_insert.xhp': 4048, 'updating;linked': 4049, 'browser,': 4050, '/text/swriter/guide/auto_numbering.xhp': 4051, 'lists,': 4052, 'lists;creating': 4053, 'lists;automatic': 4054, 'numbers;lists': 4055, 'bullets/numbers;': 4056, 'bullets;': 4057, 'bulleting': 4058, 'symbol”.': 4059, '1.,': 4060, 'i.,': 4061, 'i.': 4062, 'parenthesis': 4063, '(round': 4064, 'bracket)': 4065, 'period,': 4066, '1)': 4067, 'i).': 4068, 'space,': 4069, 'receives': 4070, '/text/swriter/guide/numbering_lines.xhp': 4071, 'paragraphs;line': 4072, 'marginal': 4073, 'numbering,': 4074, 'restart': 4075, '/text/swriter/guide/pagenumbers.xhp': 4076, 'numbers;inserting/defining/formatting': 4077, 'formatting;page': 4078, 'defining;starting': 4079, 'inserting;page': 4080, 'six': 4081, '12.': 4082, 'able': 4083, 'attribute': 4084, 'i,': 4085, 'ii,': 4086, 'iii,': 4087, 'iv,': 4088, 'breaks.': 4089, 'best:': 4090, 'method:': 4091, 'too.': 4092, 'first.': 4093, '/text/swriter/guide/insert_tab_innumbering.xhp': 4094, 'stops;': 4095, 'levels;changing': 4096, 'changing;outline': 4097, '+tab.': 4098, '/text/swriter/guide/using_hyphen.xhp': 4099, 'hyphenation;manual/automatic': 4100, 'separation,': 4101, 'hyphen_prevent.xhp': 4102, 'behaviour:': 4103, 'hyphens': 4104, 'needed': 4105, 'hyphen': 4106, 'hyphenation.': 4107, '+hyphen(-).': 4108, 'encounters': 4109, '/text/swriter/guide/indices_enter.xhp': 4110, '/text/swriter/guide/join_numbered_lists.xhp': 4111, 'merging;numbered': 4112, 'joining;numbered': 4113, 'lists;combining': 4114, 'paragraphs;numbering': 4115, 'consecutively': 4116, 'paragraphs:': 4117, 'ctrl,': 4118, 'combine.': 4119, '/text/swriter/guide/ruler.xhp': 4120, 'rulers;using': 4121, 'indents;': 4122, 'showing;rulers': 4123, 'hiding;rulers': 4124, 'widths': 4125, 'settings...': 4126, 'rulers.': 4127, 'adjusted': 4128, 'triangles': 4129, 'indent,': 4130, 'for,': 4131, '/text/swriter/guide/printing_order.xhp': 4132, 'ordering;printing': 4133, '/text/swriter/guide/globaldoc_howtos.xhp': 4134, 'navigator;master': 4135, 'documents;creating/editing/exporting': 4136, 'sub-documents;creating/editing/removing': 4137, 'removing;sub-documents': 4138, 'globaldoc.xhp.': 4139, 'subdocuments;': 4140, 'introduction': 4141, '(should': 4142, 'automatically,': 4143, 'open),': 4144, 'deleted,': 4145, 'removed.': 4146, 'type)': 4147, \"object's\": 4148, '“page”': 4149, 'prefer': 4150, '/text/swriter/guide/word_completion_adjust.xhp': 4151, 'settings;word': 4152, 'completion;settings': 4153, 'documents;word': 4154, 'weekdays;': 4155, 'months;': 4156, 'adjustments': 4157, 'refine': 4158, 'behaviour.': 4159, 'sessions.': 4160, 'options:': 4161, 'append': 4162, 'appended': 4163, 'auto-completed': 4164, 'suppressed': 4165, 'delimiter,': 4166, 'session,': 4167, 'described': 4168, 'sessions': 4169, 'collected.': 4170, 'technical': 4171, 'feature.': 4172, 'completion.': 4173, '+c': 4174, 'clipboard.': 4175, 'clipboard': 4176, 'collect': 4177, '/text/swriter/guide/fields.xhp': 4178, 'fields;updating/viewing': 4179, 'updating;fields': 4180, 'tips;fields': 4181, 'properties;fields': 4182, 'disabling;field': 4183, 'changing;field': 4184, 'viewing;fields': 4185, 'fields;...': 4186, 'option,': 4187, 'execute': 4188, 'field:': 4189, 'set.': 4190, 'reference.': 4191, \"what's\": 4192, 'this?': 4193, '/text/swriter/guide/globaldoc.xhp': 4194, 'documents;properties': 4195, 'sub-documents;properties': 4196, 'subsidiary': 4197, 'styles;master': 4198, 'subdocuments': 4199, 'bookmarks;': 4200, 'shifted': 4201, '(concepts)': 4202, '(procedures)': 4203, 'worked': 4204, 'people': 4205, 'characteristics': 4206, 'indexes,': 4207, 'unaffected.': 4208, 'precedence': 4209, 'sub-document,': 4210, 'edit.': 4211, 'master.odm': 4212, 'sub2.odt.': 4213, 'used,': 4214, 'first,': 4215, 'next,': 4216, 'imported,': 4217, '/text/swriter/guide/sections.xhp': 4218, 'in/use': 4219, 'typo': 4220, 'multicolumn': 4221, 'sections;using': 4222, 'section;columns': 4223, 'ways:': 4224, 'reuse': 4225, '+enter.': 4226, 'layout,': 4227, 'priority': 4228, '/text/swriter/guide/indices_delete.xhp': 4229, 'deleting;entries': 4230, 'editing;table/index': 4231, '/text/swriter/guide/search_regexp.xhp': 4232, 'wildcards,': 4233, 'searching;': 4234, 'expressions;searching': 4235, 'wildcards;': 4236, 'crossreference': 4237, 'unspecified': 4238, 's.n': 4239, 'son': 4240, 'wildcard(s)': 4241, 'search.': 4242, '(.).': 4243, 'asterisk.': 4244, 'example:': 4245, '123*': 4246, '123': 4247, '1233': 4248, 'asterisk': 4249, '(.*).': 4250, 'dollar': 4251, '($).': 4252, 'caret': 4253, '(^.).': 4254, '\\\\t.': 4255, '/text/swriter/guide/captions.xhp': 4256, 'continuously': 4257, 'figure': 4258, '/text/swriter/guide/table_repeat_multiple_headers.xhp': 4259, 'repetition': 4260, 'repeating;': 4261, 'repetition...': 4262, 'headings:': 4263, 'spans.': 4264, '/text/swriter/guide/removing_line_breaks.xhp': 4265, 'hard': 4266, 'pasted': 4267, 'marks;finding': 4268, 'breaks;removing': 4269, 'copies;removing': 4270, 'sentences.': 4271, 'unwanted': 4272, 'length,': 4273, '/text/swriter/guide/pagebackground.xhp': 4274, 'styles;backgrounds': 4275, 'changing;page': 4276, 'pages;backgrounds': 4277, 'watermark,': 4278, 'watermark': 4279, 'top,': 4280, 'solid': 4281, '/text/swriter/guide/wrap.xhp': 4282, 'text;editing': 4283, 'editors;contour': 4284, 'wraps': 4285, 'around.': 4286, 'tick': 4287, 'mark).': 4288, '/text/swriter/guide/table_sizing.xhp': 4289, 'enlarging/reducing': 4290, 'resizing;rows': 4291, 'columns,cells': 4292, 'resizing/juxtaposing': 4293, 'tables;enlarging': 4294, 'tables;changing': 4295, 'tables;arranging': 4296, 'arranging;tables': 4297, 'tables;sizing': 4298, 'optimise': 4299, 'proportionally.': 4300, '+shift,': 4301, 'handling': 4302, 'option+command': 4303, 'alt+ctrl': 4304, 'twice': 4305, 'opendocument': 4306, '/text/swriter/guide/print_brochure.xhp': 4307, 'booklet': 4308, 'brochures;': 4309, 'booklet.': 4310, 'fold': 4311, 'book.': 4312, 'brochure,': 4313, 'printer,': 4314, 'landscape.': 4315, 'duplex,': 4316, 'duplex': 4317, '/text/swriter/guide/print_preview.xhp': 4318, 'previews;': 4319, 'checks': 4320, 'book': 4321, '/text/swriter/guide/select_language.xhp': 4322, 'languages;': 4323, 'recognition;languages': 4324, 'spell-check;activating': 4325, 'spelling;all': 4326, 'regognition': 4327, 'provided': 4328, 'feature,': 4329, 'country': 4330, '/text/swriter/guide/spellcheck_dialog.xhp': 4331, 'spell-check;': 4332, 'spelling;manually': 4333, 'position,': 4334, 'check.': 4335, 'corrections.': 4336, 'spellchecking': 4337, '/text/swriter/guide/auto_off.xhp': 4338, 'text;turning': 4339, 'uppercase;changing': 4340, 'periods': 4341, 'marks;changing': 4342, 'words;automatic': 4343, 'lines;automatic': 4344, 'changes;automatic': 4345, 'function;turning': 4346, 'corrects': 4347, 'errors': 4348, 'quotes': 4349, '“replace”': 4350, 'box(es).': 4351, 'capitalising': 4352, 'sentence': 4353, '“capitalise': 4354, 'sentence”': 4355, 'identical': 4356, 'enter:': 4357, '_': 4358, '~': 4359, '#': 4360, 'border”': 4361, '/text/swriter/guide/using_thesaurus.xhp': 4362, 'thesaurus;': 4363, 'lexicon,': 4364, 'synonyms': 4365, 'searching;synonyms': 4366, 'synonyms,': 4367, 'up.': 4368, '+f7.': 4369, 'meaning': 4370, 'synonym': 4371, '/text/swriter/guide/form_letters_main.xhp': 4372, 'wizards;form': 4373, 'letter,': 4374, 'database.': 4375, 'sent': 4376, 'helps': 4377, \"wizard's\": 4378, 'correspondence': 4379, 'modern': 4380, 'block': 4381, 'match': 4382, 'necessary,': 4383, 'step.': 4384, 'personalised': 4385, 'merge.': 4386, '/text/swriter/guide/header_footer.xhp': 4387, 'headers;about': 4388, 'footers;about': 4389, 'left/right': 4390, 'tags,': 4391, 'viewed': 4392, '$[officename],': 4393, 'correctly,': 4394, '/text/swriter/guide/protection.xhp': 4395, 'indexes;unprotecting': 4396, 'contents;unprotecting': 4397, 'tables;protecting/unprotecting': 4398, 'sections;protecting/unprotecting': 4399, 'unprotecting': 4400, 'cells;protecting/unprotecting': 4401, 'shared/guide/protection.xhp,': 4402, 'modified,': 4403, 'viewed.': 4404, 'exists:': 4405, '.)': 4406, 'confirm': 4407, 'shift+ctrl+t': 4408, '/text/swriter/guide/arrange_chapters.xhp': 4409, 'headings;rearranging': 4410, 'moving;headings': 4411, 'demoting': 4412, 'promoting': 4413, 'arranging;headings': 4414, 'outlines;arranging': 4415, 'outlines;...': 4416, '/text/swriter/guide/indices_edit.xhp': 4417, 'editing/updating/deleting': 4418, 'updating;indexes/tables': 4419, 'editing;indexes/tables': 4420, 'deleting;indexes/tables': 4421, '/text/swriter/guide/header_pagestyles.xhp': 4422, 'headers;defining': 4423, 'footers;defining': 4424, 'defining;': 4425, 'mirrored': 4426, '“mirrored”': 4427, '/text/swriter/guide/using_numbered_lists.xhp': 4428, 'lists;turning': 4429, 'bullets;adding': 4430, 'formatting;bullets': 4431, 'removing;bullets': 4432, 'changing;bulleting': 4433, 'symbol': 4434, '(landscape': 4435, 'portrait)': 4436, '/text/swriter/guide/pageorientation.xhp': 4437, 'styles;orientation/scope': 4438, 'printing;portrait/landscape': 4439, 'pages;orientation': 4440, 'sideways': 4441, 'styles;...': 4442, 'border.': 4443, 'directly:': 4444, 'properties,': 4445, \"we'll\": 4446, 'discuss': 4447, 'detail.': 4448, 'unsure': 4449, 'concept,': 4450, 'inherit': 4451, 'share': 4452, 'initially': 4453, 'aware': 4454, 'affected': 4455, 'style?': 4456, 'flows': 4457, 'commands:': 4458, '/text/swriter/guide/load_styles.xhp': 4459, 'importing;styles': 4460, 'loading;styles': 4461, 'overwrite': 4462, '/text/swriter/guide/stylist_update.xhp': 4463, 'stylist,': 4464, 'now.': 4465, '/text/swriter/guide/printer_tray.xhp': 4466, 'selecting;paper': 4467, 'trays;...': 4468, '1-5': 4469, '/text/swriter/guide/calculate_intext2.xhp': 4470, 'calculating;in': 4471, 'performing': 4472, 'behave': 4473, '/text/swriter/guide/hyperlinks.xhp': 4474, 'navigator;inserting': 4475, 'cross-referenced': 4476, 'item.': 4477, 'document(s)': 4478, '/text/swriter/guide/calculate_multitable.xhp': 4479, '/text/swriter/guide/templates_styles.xhp': 4480, 'organising;': 4481, 'information.': 4482, 'management': 4483, '/text/swriter/guide/template_default.xhp': 4484, 'templates;defining/resetting': 4485, 'defaults;': 4486, 'documents;default': 4487, 'folder.': 4488, '/text/swriter/guide/textdoc_inframe.xhp': 4489, 'sections;inserting': 4490, 'external': 4491, 'documents;merging': 4492, 'insert,': 4493, '/text/swriter/guide/autocorr_except.xhp': 4494, 'exceptions;': 4495, 'letters;avoiding': 4496, 'letters;...': 4497, 'correcting': 4498, 'mixed': 4499, '(no': 4500, 'capital)': 4501, 'abbreviation': 4502, 'typed': 4503, '/text/swriter/guide/table_insert.xhp': 4504, 'dde;': 4505, 'cells;inserting': 4506, 'as...': 4507, '$[officeversion]': 4508, '+v': 4509, 'gdimetafile': 4510, 'unformatted': 4511, 'separators': 4512, '[rtf]': 4513, 'windows)': 4514, '/text/swriter/guide/text_animation.xhp': 4515, 'animations;text': 4516, 'rectangles,': 4517, '/text/swriter/guide/number_date_conv.xhp': 4518, 'dates;formatting': 4519, 'recognition;numbers': 4520, 'recognition;': 4521, 'regional': 4522, 'operating': 4523, '/text/swriter/guide/main.xhp': 4524, 'writer;': 4525, 'spelling,': 4526, 'dictionaries,': 4527, 'letters,': 4528, 'cards': 4529, '/text/swriter/guide/template_create.xhp': 4530, '/text/swriter/guide/numbering_paras.xhp': 4531, 'removing/interrupting': 4532, 'lists;removing/interrupting': 4533, 'deleting;numbers': 4534, 'changing;starting': 4535, 'with.': 4536, '/text/swriter/guide/text_nav_keyb.xhp': 4537, 'navigating;': 4538, 'selecting;text,': 4539, 'right,': 4540, 'up,': 4541, 'pgup': 4542, 'scrolls': 4543, 'pgdn': 4544, '/text/swriter/guide/conditional_text2.xhp': 4545, 'text;page': 4546, 'conjunction': 4547, 'count.': 4548, '/text/swriter/guide/captions_numbers.xhp': 4549, 'numbering;of': 4550, 'inserting;chapter': 4551, 'chapters,': 4552, '/text/swriter/guide/text_capital.xhp': 4553, 'uppercase;': 4554, 'changing;cases': 4555, 'capitals,': 4556, 'hand,': 4557, 'permanently': 4558, 'capitalise.': 4559, 'lowercase.': 4560, '/text/swriter/guide/indices_toc.xhp': 4561, 'heading\\xa01': 4562, '/text/swriter/guide/hidden_text.xhp': 4563, 'sections;hiding': 4564, 'paragraphs;hiding': 4565, 'hiding;text,': 4566, 'conditions': 4567, 'variables;for': 4568, 'comparisons;': 4569, 'hidden_text_display.xhp': 4570, 'nonprintable_text.xhp': 4571, 'variables;': 4572, '/text/swriter/guide/hyphen_prevent.xhp': 4573, 'hyphenation;preventing': 4574, 'words;wrapping/not': 4575, 'off;hyphenation': 4576, 'certain': 4577, 'ugly,': 4578, 'words:': 4579, 'hyphenation,': 4580, '(=),': 4581, 'pretentious=': 4582, 'hyphen.': 4583, 'hyphenated,': 4584, 'prevents': 4585, '(ctl)': 4586, 'occur.': 4587, 'no-width': 4588, '/text/swriter/guide/auto_spellcheck.xhp': 4589, 'spell-check;autospellcheck': 4590, 'spelling;while': 4591, 'words;disabling': 4592, 'underline': 4593, 'misspelt': 4594, 'language.': 4595, 'exclude.': 4596, '“none': 4597, '(do': 4598, 'spelling)”.': 4599, '/text/swriter/guide/number_sequence.xhp': 4600, 'numbering;quotations/similar': 4601, 'items,': 4602, 'quotations,': 4603, '/text/swriter/guide/indices_literature.xhp': 4604, 'indexes;creating': 4605, 'databases;creating': 4606, 'entries;bibliographies': 4607, 'stores': 4608, 'bibus': 4609, '/text/swriter/guide/footnote_with_line.xhp': 4610, 'spacing;': 4611, 'endnotes/footnotes': 4612, 'endnotes;': 4613, 'footnotes;': 4614, 'footnotes/endnotes': 4615, 'lines;footnotes/endnotes': 4616, 'endnote': 4617, 'texts,': 4618, 'endnote.': 4619, 'white,': 4620, 'synchronise': 4621, '/text/swriter/guide/header_with_chapter.xhp': 4622, 'names;': 4623, '1,2,3...': 4624, '/text/swriter/guide/table_cellmerge.xhp': 4625, 'merging/splitting': 4626, 'merges': 4627, 'merging;cells': 4628, 'merges;': 4629, 'conversely,': 4630, 'split.': 4631, '/text/swriter/guide/field_convert.xhp': 4632, 'converting;fields,': 4633, 'replacing;fields,': 4634, 'changing;fields,': 4635, '/text/swriter/guide/insert_line.xhp': 4636, 'rule,': 4637, 'inches,': 4638, 'thickness,': 4639, 'thickness': 4640, '/text/swriter/guide/stylist_fromselect.xhp': 4641, 'drag-and-drop;creating': 4642, 'copying;styles,': 4643, 'advance.': 4644, 'wait': 4645, 'moment': 4646, 'down,': 4647, '/text/swriter/guide/hidden_text_display.xhp': 4648, 'displaying;hidden': 4649, '/text/swriter/guide/text_direct_cursor.xhp': 4650, 'cursor;': 4651, 'cursor;direct': 4652, 'settings;direct': 4653, 'free': 4654, 'reflect': 4655, 'type:': 4656, '/text/swriter/guide/autotext.xhp': 4657, 'networks': 4658, 'lists;autotext': 4659, 'printing;autotext': 4660, 'autotext,': 4661, 'stored': 4662, 'preceded': 4663, 'autotext.': 4664, 'remainder': 4665, 'suggestion': 4666, 'option.': 4667, 'proposed': 4668, 'shortcut.': 4669, 'fn': 4670, 'sequentially': 4671, 'numbered.': 4672, 'dummy': 4673, 'dt': 4674, 'gimmicks': 4675, 'network': 4676, 'installations': 4677, 'network.': 4678, 'company': 4679, 'server,': 4680, 'local': 4681, 'configuration.': 4682, 'server': 4683, 'installation': 4684, 'directories,': 4685, 'directory': 4686, '/text/swriter/guide/conditional_text.xhp': 4687, 'matching': 4688, 'if-then': 4689, 'queries': 4690, 'defining;conditions': 4691, 'two-part': 4692, 'process.': 4693, 'condition.': 4694, 'met,': 4695, 'eq': 4696, 'three.': 4697, 'enclosing': 4698, 'string.': 4699, 'almost': 4700, 'limit': 4701, 'update,': 4702, '/text/swriter/guide/table_cells.xhp': 4703, 'keyboard;adding': 4704, 'merging;cells,': 4705, 'deleting;rows/columns,': 4706, 'inserting;rows/columns,': 4707, '/text/swriter/guide/pagestyles.xhp': 4708, 'styles;creating': 4709, 'styles;for': 4710, '/text/swriter/guide/border_page.xhp': 4711, 'pages;defining': 4712, 'undone': 4713, 'customised': 4714, 'edge(s)': 4715, 'toggle': 4716, '/text/swriter/guide/text_centervert.xhp': 4717, 'centring;text': 4718, '/text/swriter/guide/words_count.xhp': 4719, 'words;': 4720, '/text/swriter/guide/calculate.xhp': 4721, 'references;in': 4722, 'calculation,': 4723, 'equals': 4724, '=.': 4725, '=10000/12': 4726, 'formula.': 4727, 'enclose': 4728, 'brackets.': 4729, '/text/swriter/guide/header_with_line.xhp': 4730, 'headers;formatting': 4731, 'footers;formatting': 4732, 'shadows;headers/footers': 4733, 'border/background': 4734, 'opens.': 4735, '/text/swriter/guide/footer_pagenumber.xhp': 4736, 'numbering;pages': 4737, 'space;': 4738, '/text/swriter/guide/calculate_intext.xhp': 4739, 'calculating;formulae/mean': 4740, 'slashes': 4741, '(_bar_).': 4742, '/text/swriter/guide/shortcut_writing.xhp': 4743, 'keyboard;bold': 4744, 'bold;formatting': 4745, 'keys;bold': 4746, '+b.': 4747, '+b,': 4748, '+b': 4749, '/text/swriter/guide/border_object.xhp': 4750, 'charts;borders': 4751, 'pictures;borders': 4752, 'objects;borders': 4753, 'defining;object': 4754}\n"
     ]
    }
   ],
   "source": [
    "BUFFER_SIZE = len(input_tensor)\n",
    "BATCH_SIZE = 64\n",
    "steps_per_epoch = len(input_tensor)//BATCH_SIZE\n",
    "\n",
    "embedding_dim = 256\n",
    "units = 1024\n",
    "print(inp_lang.word_index)\n",
    "vocab_inp_size = len(inp_lang.word_index)+1\n",
    "vocab_tar_size = len(targ_lang.word_index)+1\n",
    "\n",
    "dataset = tf.data.Dataset.from_tensor_slices((input_tensor, target_tensor)).shuffle(BUFFER_SIZE)\n",
    "dataset = dataset.batch(BATCH_SIZE, drop_remainder=True)"
   ]
  },
  {
   "cell_type": "code",
   "execution_count": null,
   "metadata": {
    "colab": {
     "base_uri": "https://localhost:8080/"
    },
    "id": "QLblRvCkTH2W",
    "outputId": "caf3b86f-8da0-4d27-f8a2-5d34376cdbda"
   },
   "outputs": [
    {
     "name": "stdout",
     "output_type": "stream",
     "text": [
      "(64, 102) (64, 116)\n",
      "102\n"
     ]
    }
   ],
   "source": [
    "example_input_batch, example_target_batch = next(iter(dataset))\n",
    "print(example_input_batch.shape, example_target_batch.shape)\n",
    "print(max_length_inp)"
   ]
  },
  {
   "cell_type": "markdown",
   "metadata": {
    "id": "uzi-5QjfeFac"
   },
   "source": [
    "### Define the model"
   ]
  },
  {
   "cell_type": "code",
   "execution_count": null,
   "metadata": {
    "colab": {
     "base_uri": "https://localhost:8080/"
    },
    "id": "QyJK3kTVRTVC",
    "outputId": "48ca0c44-69c0-4361-8a81-99f568d14e18"
   },
   "outputs": [
    {
     "data": {
      "text/plain": [
       "(3217, 4755)"
      ]
     },
     "execution_count": 10,
     "metadata": {
      "tags": []
     },
     "output_type": "execute_result"
    }
   ],
   "source": [
    "vocab_tar_size, vocab_inp_size"
   ]
  },
  {
   "cell_type": "code",
   "execution_count": null,
   "metadata": {
    "id": "9_c8rB8lXgip"
   },
   "outputs": [],
   "source": [
    "class Encoder(tf.keras.Model):\n",
    "  def __init__(self, vocab_size, embedding_dim, enc_units, batch_sz):\n",
    "    super(Encoder, self).__init__()\n",
    "    self.batch_sz = batch_sz\n",
    "    self.enc_units = enc_units\n",
    "    self.embedding = tf.keras.layers.Embedding(vocab_size, embedding_dim)\n",
    "    self.gru = tf.keras.layers.GRU(self.enc_units,\n",
    "                                   return_sequences=True,\n",
    "                                   return_state=True,\n",
    "                                   recurrent_initializer='glorot_uniform')\n",
    "\n",
    "  def call(self, x, hidden):\n",
    "    x = self.embedding(x)\n",
    "    output, state = self.gru(x, initial_state = hidden)\n",
    "    return output, state\n",
    "\n",
    "  def initialize_hidden_state(self):\n",
    "    return tf.zeros((self.batch_sz, self.enc_units))"
   ]
  },
  {
   "cell_type": "code",
   "execution_count": null,
   "metadata": {
    "colab": {
     "base_uri": "https://localhost:8080/"
    },
    "id": "WeV903xAROWt",
    "outputId": "be292729-4540-4a04-bd7c-6cdca6159aa7"
   },
   "outputs": [
    {
     "name": "stdout",
     "output_type": "stream",
     "text": [
      "Encoder output shape: (batch size, sequence length, units) (64, 102, 1024)\n",
      "Encoder Hidden state shape: (batch size, units) (64, 1024)\n"
     ]
    }
   ],
   "source": [
    "encoder = Encoder(vocab_inp_size, embedding_dim, units, BATCH_SIZE)\n",
    "\n",
    "# 样本输入\n",
    "sample_hidden = encoder.initialize_hidden_state()\n",
    "sample_output, sample_hidden = encoder(example_input_batch, sample_hidden)\n",
    "print ('Encoder output shape: (batch size, sequence length, units) {}'.format(sample_output.shape))\n",
    "print ('Encoder Hidden state shape: (batch size, units) {}'.format(sample_hidden.shape))\n"
   ]
  },
  {
   "cell_type": "code",
   "execution_count": null,
   "metadata": {
    "id": "tdOvGsbldjqN"
   },
   "outputs": [],
   "source": [
    "class BahdanauAttention(tf.keras.layers.Layer):\n",
    "  def __init__(self, units):\n",
    "    super(BahdanauAttention, self).__init__()\n",
    "    self.W1 = tf.keras.layers.Dense(units)\n",
    "    self.W2 = tf.keras.layers.Dense(units)\n",
    "    self.V = tf.keras.layers.Dense(1)\n",
    "\n",
    "  def call(self, query, values):\n",
    "    # 隐藏层的形状 == （批大小，隐藏层大小）\n",
    "    # hidden_with_time_axis 的形状 == （批大小，1，隐藏层大小）\n",
    "    # 这样做是为了执行加法以计算分数  \n",
    "    hidden_with_time_axis = tf.expand_dims(query, 1)\n",
    "\n",
    "    # 分数的形状 == （批大小，最大长度，1）\n",
    "    # 我们在最后一个轴上得到 1， 因为我们把分数应用于 self.V\n",
    "    # 在应用 self.V 之前，张量的形状是（批大小，最大长度，单位）\n",
    "    score = self.V(tf.nn.tanh(\n",
    "        self.W1(values) + self.W2(hidden_with_time_axis)))\n",
    "\n",
    "    # 注意力权重 （attention_weights） 的形状 == （批大小，最大长度，1）\n",
    "    attention_weights = tf.nn.softmax(score, axis=1)\n",
    "\n",
    "    # 上下文向量 （context_vector） 求和之后的形状 == （批大小，隐藏层大小）\n",
    "    context_vector = attention_weights * values\n",
    "    context_vector = tf.reduce_sum(context_vector, axis=1)\n",
    "\n",
    "    return context_vector, attention_weights"
   ]
  },
  {
   "cell_type": "code",
   "execution_count": null,
   "metadata": {
    "colab": {
     "base_uri": "https://localhost:8080/"
    },
    "id": "8g-hZerIXllL",
    "outputId": "affbb5a9-4567-4c2e-fb3c-2629c1895939"
   },
   "outputs": [
    {
     "name": "stdout",
     "output_type": "stream",
     "text": [
      "Attention result shape: (batch size, units) (64, 1024)\n",
      "Attention weights shape: (batch_size, sequence_length, 1) (64, 102, 1)\n"
     ]
    }
   ],
   "source": [
    "attention_layer = BahdanauAttention(10)\n",
    "attention_result, attention_weights = attention_layer(sample_hidden, sample_output)\n",
    "\n",
    "print(\"Attention result shape: (batch size, units) {}\".format(attention_result.shape))\n",
    "print(\"Attention weights shape: (batch_size, sequence_length, 1) {}\".format(attention_weights.shape))"
   ]
  },
  {
   "cell_type": "code",
   "execution_count": null,
   "metadata": {
    "id": "q_wAMN0sfOea"
   },
   "outputs": [],
   "source": [
    "class Decoder(tf.keras.Model):\n",
    "  def __init__(self, vocab_size, embedding_dim, dec_units, batch_sz):\n",
    "    super(Decoder, self).__init__()\n",
    "    self.batch_sz = batch_sz\n",
    "    self.dec_units = dec_units\n",
    "    self.embedding = tf.keras.layers.Embedding(vocab_size, embedding_dim)\n",
    "    self.gru = tf.keras.layers.GRU(self.dec_units,\n",
    "                                   return_sequences=True,\n",
    "                                   return_state=True,\n",
    "                                   recurrent_initializer='glorot_uniform')\n",
    "    self.fc = tf.keras.layers.Dense(vocab_size)\n",
    "\n",
    "    # 用于注意力\n",
    "    self.attention = BahdanauAttention(self.dec_units)\n",
    "\n",
    "  def call(self, x, hidden, enc_output):\n",
    "    # 编码器输出 （enc_output） 的形状 == （批大小，最大长度，隐藏层大小）\n",
    "    context_vector, attention_weights = self.attention(hidden, enc_output)\n",
    "\n",
    "    # x 在通过嵌入层后的形状 == （批大小，1，嵌入维度）\n",
    "    x = self.embedding(x)\n",
    "\n",
    "    # x 在拼接 （concatenation） 后的形状 == （批大小，1，嵌入维度 + 隐藏层大小）\n",
    "    x = tf.concat([tf.expand_dims(context_vector, 1), x], axis=-1)\n",
    "\n",
    "    # 将合并后的向量传送到 GRU\n",
    "    output, state = self.gru(x)\n",
    "\n",
    "    # 输出的形状 == （批大小 * 1，隐藏层大小）\n",
    "    output = tf.reshape(output, (-1, output.shape[2]))\n",
    "\n",
    "    # 输出的形状 == （批大小，vocab）\n",
    "    x = self.fc(output)\n",
    "\n",
    "    return x, state, attention_weights"
   ]
  },
  {
   "cell_type": "code",
   "execution_count": null,
   "metadata": {
    "colab": {
     "base_uri": "https://localhost:8080/"
    },
    "id": "ByMJgetccaOO",
    "outputId": "8131134d-eaa4-4a3a-9a27-adcbf51a95ac"
   },
   "outputs": [
    {
     "name": "stdout",
     "output_type": "stream",
     "text": [
      "Decoder output shape: (batch_size, vocab size) (64, 3217)\n"
     ]
    }
   ],
   "source": [
    "decoder = Decoder(vocab_tar_size, embedding_dim, units, BATCH_SIZE)\n",
    "\n",
    "sample_decoder_output, _, _ = decoder(tf.random.uniform((64, 1)),\n",
    "                                      sample_hidden, sample_output)\n",
    "\n",
    "print ('Decoder output shape: (batch_size, vocab size) {}'.format(sample_decoder_output.shape))"
   ]
  },
  {
   "cell_type": "code",
   "execution_count": null,
   "metadata": {
    "id": "L1bHtxc4fOWp"
   },
   "outputs": [],
   "source": [
    "optimizer = tf.keras.optimizers.Adam()\n",
    "loss_object = tf.keras.losses.SparseCategoricalCrossentropy(\n",
    "    from_logits=True, reduction='none')\n",
    "\n",
    "def loss_function(real, pred):\n",
    "  mask = tf.math.logical_not(tf.math.equal(real, 0))\n",
    "  loss_ = loss_object(real, pred)\n",
    "\n",
    "  mask = tf.cast(mask, dtype=loss_.dtype)\n",
    "  loss_ *= mask\n",
    "\n",
    "  return tf.reduce_mean(loss_)"
   ]
  },
  {
   "cell_type": "code",
   "execution_count": null,
   "metadata": {
    "id": "F8RsoaXJcL9W"
   },
   "outputs": [],
   "source": [
    "checkpoint_dir = './training_checkpoints'\n",
    "checkpoint_prefix = os.path.join(checkpoint_dir, \"ckpt\")\n",
    "checkpoint = tf.train.Checkpoint(optimizer=optimizer,\n",
    "                                 encoder=encoder,\n",
    "                                 decoder=decoder)"
   ]
  },
  {
   "cell_type": "code",
   "execution_count": null,
   "metadata": {
    "id": "kv4mWXvecM3W"
   },
   "outputs": [],
   "source": [
    "@tf.function\n",
    "def train_step(inp, targ, enc_hidden):\n",
    "  loss = 0\n",
    "\n",
    "  with tf.GradientTape() as tape:\n",
    "    enc_output, enc_hidden = encoder(inp, enc_hidden)\n",
    "\n",
    "    dec_hidden = enc_hidden\n",
    "\n",
    "    dec_input = tf.expand_dims([targ_lang.word_index['<start>']] * BATCH_SIZE, 1)\n",
    "\n",
    "    # 教师强制 - 将目标词作为下一个输入\n",
    "    for t in range(1, targ.shape[1]):\n",
    "      # 将编码器输出 （enc_output） 传送至解码器\n",
    "      predictions, dec_hidden, _ = decoder(dec_input, dec_hidden, enc_output)\n",
    "\n",
    "      loss += loss_function(targ[:, t], predictions)\n",
    "\n",
    "      # 使用教师强制\n",
    "      dec_input = tf.expand_dims(targ[:, t], 1)\n",
    "\n",
    "  batch_loss = (loss / int(targ.shape[1]))\n",
    "\n",
    "  variables = encoder.trainable_variables + decoder.trainable_variables\n",
    "\n",
    "  gradients = tape.gradient(loss, variables)\n",
    "\n",
    "  optimizer.apply_gradients(zip(gradients, variables))\n",
    "\n",
    "  return batch_loss"
   ]
  },
  {
   "cell_type": "code",
   "execution_count": null,
   "metadata": {
    "colab": {
     "base_uri": "https://localhost:8080/",
     "height": 1000
    },
    "id": "izxb6n1Sd-s5",
    "outputId": "9af55a9f-6218-4a9a-c094-2106c40b476d"
   },
   "outputs": [
    {
     "name": "stdout",
     "output_type": "stream",
     "text": [
      "Epoch 1 Batch 0 Loss 0.5505\n"
     ]
    },
    {
     "ename": "CancelledError",
     "evalue": "ignored",
     "output_type": "error",
     "traceback": [
      "\u001b[0;31m---------------------------------------------------------------------------\u001b[0m",
      "\u001b[0;31mCancelledError\u001b[0m                            Traceback (most recent call last)",
      "\u001b[0;32m<ipython-input-20-7f86a5a26a7d>\u001b[0m in \u001b[0;36m<module>\u001b[0;34m()\u001b[0m\n\u001b[1;32m      8\u001b[0m \u001b[0;34m\u001b[0m\u001b[0m\n\u001b[1;32m      9\u001b[0m   \u001b[0;32mfor\u001b[0m \u001b[0;34m(\u001b[0m\u001b[0mbatch\u001b[0m\u001b[0;34m,\u001b[0m \u001b[0;34m(\u001b[0m\u001b[0minp\u001b[0m\u001b[0;34m,\u001b[0m \u001b[0mtarg\u001b[0m\u001b[0;34m)\u001b[0m\u001b[0;34m)\u001b[0m \u001b[0;32min\u001b[0m \u001b[0menumerate\u001b[0m\u001b[0;34m(\u001b[0m\u001b[0mdataset\u001b[0m\u001b[0;34m.\u001b[0m\u001b[0mtake\u001b[0m\u001b[0;34m(\u001b[0m\u001b[0msteps_per_epoch\u001b[0m\u001b[0;34m)\u001b[0m\u001b[0;34m)\u001b[0m\u001b[0;34m:\u001b[0m\u001b[0;34m\u001b[0m\u001b[0;34m\u001b[0m\u001b[0m\n\u001b[0;32m---> 10\u001b[0;31m     \u001b[0mbatch_loss\u001b[0m \u001b[0;34m=\u001b[0m \u001b[0mtrain_step\u001b[0m\u001b[0;34m(\u001b[0m\u001b[0minp\u001b[0m\u001b[0;34m,\u001b[0m \u001b[0mtarg\u001b[0m\u001b[0;34m,\u001b[0m \u001b[0menc_hidden\u001b[0m\u001b[0;34m)\u001b[0m\u001b[0;34m\u001b[0m\u001b[0;34m\u001b[0m\u001b[0m\n\u001b[0m\u001b[1;32m     11\u001b[0m     \u001b[0mtotal_loss\u001b[0m \u001b[0;34m+=\u001b[0m \u001b[0mbatch_loss\u001b[0m\u001b[0;34m\u001b[0m\u001b[0;34m\u001b[0m\u001b[0m\n\u001b[1;32m     12\u001b[0m \u001b[0;34m\u001b[0m\u001b[0m\n",
      "\u001b[0;32m/usr/local/lib/python3.7/dist-packages/tensorflow/python/eager/def_function.py\u001b[0m in \u001b[0;36m__call__\u001b[0;34m(self, *args, **kwds)\u001b[0m\n\u001b[1;32m    826\u001b[0m     \u001b[0mtracing_count\u001b[0m \u001b[0;34m=\u001b[0m \u001b[0mself\u001b[0m\u001b[0;34m.\u001b[0m\u001b[0mexperimental_get_tracing_count\u001b[0m\u001b[0;34m(\u001b[0m\u001b[0;34m)\u001b[0m\u001b[0;34m\u001b[0m\u001b[0;34m\u001b[0m\u001b[0m\n\u001b[1;32m    827\u001b[0m     \u001b[0;32mwith\u001b[0m \u001b[0mtrace\u001b[0m\u001b[0;34m.\u001b[0m\u001b[0mTrace\u001b[0m\u001b[0;34m(\u001b[0m\u001b[0mself\u001b[0m\u001b[0;34m.\u001b[0m\u001b[0m_name\u001b[0m\u001b[0;34m)\u001b[0m \u001b[0;32mas\u001b[0m \u001b[0mtm\u001b[0m\u001b[0;34m:\u001b[0m\u001b[0;34m\u001b[0m\u001b[0;34m\u001b[0m\u001b[0m\n\u001b[0;32m--> 828\u001b[0;31m       \u001b[0mresult\u001b[0m \u001b[0;34m=\u001b[0m \u001b[0mself\u001b[0m\u001b[0;34m.\u001b[0m\u001b[0m_call\u001b[0m\u001b[0;34m(\u001b[0m\u001b[0;34m*\u001b[0m\u001b[0margs\u001b[0m\u001b[0;34m,\u001b[0m \u001b[0;34m**\u001b[0m\u001b[0mkwds\u001b[0m\u001b[0;34m)\u001b[0m\u001b[0;34m\u001b[0m\u001b[0;34m\u001b[0m\u001b[0m\n\u001b[0m\u001b[1;32m    829\u001b[0m       \u001b[0mcompiler\u001b[0m \u001b[0;34m=\u001b[0m \u001b[0;34m\"xla\"\u001b[0m \u001b[0;32mif\u001b[0m \u001b[0mself\u001b[0m\u001b[0;34m.\u001b[0m\u001b[0m_experimental_compile\u001b[0m \u001b[0;32melse\u001b[0m \u001b[0;34m\"nonXla\"\u001b[0m\u001b[0;34m\u001b[0m\u001b[0;34m\u001b[0m\u001b[0m\n\u001b[1;32m    830\u001b[0m       \u001b[0mnew_tracing_count\u001b[0m \u001b[0;34m=\u001b[0m \u001b[0mself\u001b[0m\u001b[0;34m.\u001b[0m\u001b[0mexperimental_get_tracing_count\u001b[0m\u001b[0;34m(\u001b[0m\u001b[0;34m)\u001b[0m\u001b[0;34m\u001b[0m\u001b[0;34m\u001b[0m\u001b[0m\n",
      "\u001b[0;32m/usr/local/lib/python3.7/dist-packages/tensorflow/python/eager/def_function.py\u001b[0m in \u001b[0;36m_call\u001b[0;34m(self, *args, **kwds)\u001b[0m\n\u001b[1;32m    853\u001b[0m       \u001b[0;31m# In this case we have created variables on the first call, so we run the\u001b[0m\u001b[0;34m\u001b[0m\u001b[0;34m\u001b[0m\u001b[0;34m\u001b[0m\u001b[0m\n\u001b[1;32m    854\u001b[0m       \u001b[0;31m# defunned version which is guaranteed to never create variables.\u001b[0m\u001b[0;34m\u001b[0m\u001b[0;34m\u001b[0m\u001b[0;34m\u001b[0m\u001b[0m\n\u001b[0;32m--> 855\u001b[0;31m       \u001b[0;32mreturn\u001b[0m \u001b[0mself\u001b[0m\u001b[0;34m.\u001b[0m\u001b[0m_stateless_fn\u001b[0m\u001b[0;34m(\u001b[0m\u001b[0;34m*\u001b[0m\u001b[0margs\u001b[0m\u001b[0;34m,\u001b[0m \u001b[0;34m**\u001b[0m\u001b[0mkwds\u001b[0m\u001b[0;34m)\u001b[0m  \u001b[0;31m# pylint: disable=not-callable\u001b[0m\u001b[0;34m\u001b[0m\u001b[0;34m\u001b[0m\u001b[0m\n\u001b[0m\u001b[1;32m    856\u001b[0m     \u001b[0;32melif\u001b[0m \u001b[0mself\u001b[0m\u001b[0;34m.\u001b[0m\u001b[0m_stateful_fn\u001b[0m \u001b[0;32mis\u001b[0m \u001b[0;32mnot\u001b[0m \u001b[0;32mNone\u001b[0m\u001b[0;34m:\u001b[0m\u001b[0;34m\u001b[0m\u001b[0;34m\u001b[0m\u001b[0m\n\u001b[1;32m    857\u001b[0m       \u001b[0;31m# Release the lock early so that multiple threads can perform the call\u001b[0m\u001b[0;34m\u001b[0m\u001b[0;34m\u001b[0m\u001b[0;34m\u001b[0m\u001b[0m\n",
      "\u001b[0;32m/usr/local/lib/python3.7/dist-packages/tensorflow/python/eager/function.py\u001b[0m in \u001b[0;36m__call__\u001b[0;34m(self, *args, **kwargs)\u001b[0m\n\u001b[1;32m   2941\u001b[0m        filtered_flat_args) = self._maybe_define_function(args, kwargs)\n\u001b[1;32m   2942\u001b[0m     return graph_function._call_flat(\n\u001b[0;32m-> 2943\u001b[0;31m         filtered_flat_args, captured_inputs=graph_function.captured_inputs)  # pylint: disable=protected-access\n\u001b[0m\u001b[1;32m   2944\u001b[0m \u001b[0;34m\u001b[0m\u001b[0m\n\u001b[1;32m   2945\u001b[0m   \u001b[0;34m@\u001b[0m\u001b[0mproperty\u001b[0m\u001b[0;34m\u001b[0m\u001b[0;34m\u001b[0m\u001b[0m\n",
      "\u001b[0;32m/usr/local/lib/python3.7/dist-packages/tensorflow/python/eager/function.py\u001b[0m in \u001b[0;36m_call_flat\u001b[0;34m(self, args, captured_inputs, cancellation_manager)\u001b[0m\n\u001b[1;32m   1917\u001b[0m       \u001b[0;31m# No tape is watching; skip to running the function.\u001b[0m\u001b[0;34m\u001b[0m\u001b[0;34m\u001b[0m\u001b[0;34m\u001b[0m\u001b[0m\n\u001b[1;32m   1918\u001b[0m       return self._build_call_outputs(self._inference_function.call(\n\u001b[0;32m-> 1919\u001b[0;31m           ctx, args, cancellation_manager=cancellation_manager))\n\u001b[0m\u001b[1;32m   1920\u001b[0m     forward_backward = self._select_forward_and_backward_functions(\n\u001b[1;32m   1921\u001b[0m         \u001b[0margs\u001b[0m\u001b[0;34m,\u001b[0m\u001b[0;34m\u001b[0m\u001b[0;34m\u001b[0m\u001b[0m\n",
      "\u001b[0;32m/usr/local/lib/python3.7/dist-packages/tensorflow/python/eager/function.py\u001b[0m in \u001b[0;36mcall\u001b[0;34m(self, ctx, args, cancellation_manager)\u001b[0m\n\u001b[1;32m    558\u001b[0m               \u001b[0minputs\u001b[0m\u001b[0;34m=\u001b[0m\u001b[0margs\u001b[0m\u001b[0;34m,\u001b[0m\u001b[0;34m\u001b[0m\u001b[0;34m\u001b[0m\u001b[0m\n\u001b[1;32m    559\u001b[0m               \u001b[0mattrs\u001b[0m\u001b[0;34m=\u001b[0m\u001b[0mattrs\u001b[0m\u001b[0;34m,\u001b[0m\u001b[0;34m\u001b[0m\u001b[0;34m\u001b[0m\u001b[0m\n\u001b[0;32m--> 560\u001b[0;31m               ctx=ctx)\n\u001b[0m\u001b[1;32m    561\u001b[0m         \u001b[0;32melse\u001b[0m\u001b[0;34m:\u001b[0m\u001b[0;34m\u001b[0m\u001b[0;34m\u001b[0m\u001b[0m\n\u001b[1;32m    562\u001b[0m           outputs = execute.execute_with_cancellation(\n",
      "\u001b[0;32m/usr/local/lib/python3.7/dist-packages/tensorflow/python/eager/execute.py\u001b[0m in \u001b[0;36mquick_execute\u001b[0;34m(op_name, num_outputs, inputs, attrs, ctx, name)\u001b[0m\n\u001b[1;32m     58\u001b[0m     \u001b[0mctx\u001b[0m\u001b[0;34m.\u001b[0m\u001b[0mensure_initialized\u001b[0m\u001b[0;34m(\u001b[0m\u001b[0;34m)\u001b[0m\u001b[0;34m\u001b[0m\u001b[0;34m\u001b[0m\u001b[0m\n\u001b[1;32m     59\u001b[0m     tensors = pywrap_tfe.TFE_Py_Execute(ctx._handle, device_name, op_name,\n\u001b[0;32m---> 60\u001b[0;31m                                         inputs, attrs, num_outputs)\n\u001b[0m\u001b[1;32m     61\u001b[0m   \u001b[0;32mexcept\u001b[0m \u001b[0mcore\u001b[0m\u001b[0;34m.\u001b[0m\u001b[0m_NotOkStatusException\u001b[0m \u001b[0;32mas\u001b[0m \u001b[0me\u001b[0m\u001b[0;34m:\u001b[0m\u001b[0;34m\u001b[0m\u001b[0;34m\u001b[0m\u001b[0m\n\u001b[1;32m     62\u001b[0m     \u001b[0;32mif\u001b[0m \u001b[0mname\u001b[0m \u001b[0;32mis\u001b[0m \u001b[0;32mnot\u001b[0m \u001b[0;32mNone\u001b[0m\u001b[0;34m:\u001b[0m\u001b[0;34m\u001b[0m\u001b[0;34m\u001b[0m\u001b[0m\n",
      "\u001b[0;31mCancelledError\u001b[0m:  [_Derived_]RecvAsync is cancelled.\n\t [[{{node gradient_tape/encoder/embedding/embedding_lookup/Reshape/_1174}}]] [Op:__inference_train_step_205522]\n\nFunction call stack:\ntrain_step\n"
     ]
    }
   ],
   "source": [
    "EPOCHS = 10\n",
    "\n",
    "for epoch in range(EPOCHS):\n",
    "  start = time.time()\n",
    "\n",
    "  enc_hidden = encoder.initialize_hidden_state()\n",
    "  total_loss = 0\n",
    "\n",
    "  for (batch, (inp, targ)) in enumerate(dataset.take(steps_per_epoch)):\n",
    "    batch_loss = train_step(inp, targ, enc_hidden)\n",
    "    total_loss += batch_loss\n",
    "\n",
    "    if batch % 100 == 0:\n",
    "        print('Epoch {} Batch {} Loss {:.4f}'.format(epoch + 1,\n",
    "                                                     batch,\n",
    "                                                     batch_loss.numpy()))\n",
    "  # 每 2 个周期（epoch），保存（检查点）一次模型\n",
    "  if (epoch + 1) % 2 == 0:\n",
    "    checkpoint.save(file_prefix = checkpoint_prefix)\n",
    "\n",
    "  print('Epoch {} Loss {:.4f}'.format(epoch + 1,\n",
    "                                      total_loss / steps_per_epoch))\n",
    "  print('Time taken for 1 epoch {} sec\\n'.format(time.time() - start))"
   ]
  },
  {
   "cell_type": "code",
   "execution_count": null,
   "metadata": {
    "id": "rYQpUW6jeBRH"
   },
   "outputs": [],
   "source": [
    "def evaluate(sentence):\n",
    "    attention_plot = np.zeros((max_length_targ, max_length_inp))\n",
    "\n",
    "    sentence = preprocess_sentence(sentence)\n",
    "\n",
    "    inputs = [inp_lang.word_index[i] for i in sentence.split(' ')]\n",
    "    inputs = tf.keras.preprocessing.sequence.pad_sequences([inputs],\n",
    "                                                           maxlen=max_length_inp,\n",
    "                                                           padding='post')\n",
    "    inputs = tf.convert_to_tensor(inputs)\n",
    "\n",
    "    result = ''\n",
    "\n",
    "    hidden = [tf.zeros((1, units))]\n",
    "    enc_out, enc_hidden = encoder(inputs, hidden)\n",
    "\n",
    "    dec_hidden = enc_hidden\n",
    "    dec_input = tf.expand_dims([targ_lang.word_index['<start>']], 0)\n",
    "\n",
    "    for t in range(max_length_targ):\n",
    "        predictions, dec_hidden, attention_weights = decoder(dec_input,\n",
    "                                                             dec_hidden,\n",
    "                                                             enc_out)\n",
    "\n",
    "        # 存储注意力权重以便后面制图\n",
    "        attention_weights = tf.reshape(attention_weights, (-1, ))\n",
    "        attention_plot[t] = attention_weights.numpy()\n",
    "\n",
    "        predicted_id = tf.argmax(predictions[0]).numpy()\n",
    "\n",
    "        result += targ_lang.index_word[predicted_id] + ' '\n",
    "\n",
    "        if targ_lang.index_word[predicted_id] == '<end>':\n",
    "            return result, sentence, attention_plot\n",
    "\n",
    "        # 预测的 ID 被输送回模型\n",
    "        dec_input = tf.expand_dims([predicted_id], 0)\n",
    "\n",
    "    return result, sentence, attention_plot"
   ]
  }
 ],
 "metadata": {
  "accelerator": "GPU",
  "colab": {
   "name": "GNMT_training.ipynb",
   "provenance": []
  },
  "kernelspec": {
   "display_name": "Python 3",
   "language": "python",
   "name": "python3"
  },
  "language_info": {
   "codemirror_mode": {
    "name": "ipython",
    "version": 3
   },
   "file_extension": ".py",
   "mimetype": "text/x-python",
   "name": "python",
   "nbconvert_exporter": "python",
   "pygments_lexer": "ipython3",
   "version": "3.7.9"
  }
 },
 "nbformat": 4,
 "nbformat_minor": 4
}
